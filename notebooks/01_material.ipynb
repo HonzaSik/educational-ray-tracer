{
 "cells": [
  {
   "metadata": {
    "ExecuteTime": {
     "end_time": "2025-10-06T19:49:45.923311Z",
     "start_time": "2025-10-06T19:49:45.862875Z"
    }
   },
   "cell_type": "code",
   "source": [
    "from src import Color, ColorLibrary\n",
    "from src import Material, MaterialLibrary\n",
    "from src import PickleManager\n",
    "\n",
    "pm = PickleManager(directory=\"./pickle_data\", verbose=True)"
   ],
   "id": "ab23c537c0028d47",
   "outputs": [],
   "execution_count": 1
  },
  {
   "metadata": {},
   "cell_type": "markdown",
   "source": [
    "# Material and Color\n",
    "\n",
    "This notebook demonstrates how to create and manage materials and colors using the `Material`, `Color`, `MaterialLibrary`, and `ColorLibrary` classes, along with the `PickleManager` for saving and loading these libraries.\n",
    "\n",
    "### Color creation and saving using PickleManager"
   ],
   "id": "31b8afbc1a2b7778"
  },
  {
   "metadata": {
    "ExecuteTime": {
     "end_time": "2025-10-06T19:49:45.930685Z",
     "start_time": "2025-10-06T19:49:45.926502Z"
    }
   },
   "cell_type": "code",
   "source": [
    "colors = ColorLibrary()\n",
    "\n",
    "colors.add(\"white\", Color.custom_rgb(255, 255, 255))\n",
    "colors.add(\"black\", Color.custom_rgb(0, 0, 0))\n",
    "colors.add(\"red\", Color.custom_rgb(255, 0, 0))\n",
    "colors.add(\"green\", Color.custom_rgb(0, 255, 0))\n",
    "colors.add(\"blue\", Color.custom_rgb(0, 0, 255))\n",
    "colors.add(\"gray\", Color.custom_rgb(128, 128, 128))\n",
    "colors.add(\"yellow\", Color.custom_rgb(255, 255, 0))\n",
    "colors.add(\"magenta\", Color.custom_rgb(255, 0, 255))\n",
    "colors.add(\"cyan\", Color.custom_rgb(0, 255, 255))\n",
    "\n",
    "pm.save_color_library(colors)"
   ],
   "id": "39a2eba8a7d65096",
   "outputs": [
    {
     "name": "stdout",
     "output_type": "stream",
     "text": [
      "Saved object to pickle_data/colors.pkl\n",
      "{'black': Color(x=0.0, y=0.0, z=0.0),\n",
      " 'blue': Color(x=0.0, y=0.0, z=1.0),\n",
      " 'cyan': Color(x=0.0, y=1.0, z=1.0),\n",
      " 'gray': Color(x=0.5019607843137255,\n",
      "               y=0.5019607843137255,\n",
      "               z=0.5019607843137255),\n",
      " 'green': Color(x=0.0, y=1.0, z=0.0),\n",
      " 'magenta': Color(x=1.0, y=0.0, z=1.0),\n",
      " 'red': Color(x=1.0, y=0.0, z=0.0),\n",
      " 'white': Color(x=1.0, y=1.0, z=1.0),\n",
      " 'yellow': Color(x=1.0, y=1.0, z=0.0)}\n"
     ]
    }
   ],
   "execution_count": 2
  },
  {
   "metadata": {},
   "cell_type": "markdown",
   "source": "### Loading the color library using PickleManager we just created",
   "id": "d860ba1fa7f9c84f"
  },
  {
   "metadata": {
    "ExecuteTime": {
     "end_time": "2025-10-06T19:49:46.018948Z",
     "start_time": "2025-10-06T19:49:46.015859Z"
    }
   },
   "cell_type": "code",
   "source": [
    "# we can load the color library we just saved\n",
    "col = pm.load_color_library()\n",
    "\n",
    "# we can access colors as attributes these are the same as we defined above\n",
    "print(\"Available colors:\", col.get_all_names())\n",
    "\n",
    "WHITE = col.white\n",
    "BLACK = col.black\n",
    "#..."
   ],
   "id": "e316b928b2e52e8",
   "outputs": [
    {
     "name": "stdout",
     "output_type": "stream",
     "text": [
      "Loaded object from pickle_data/colors.pkl\n",
      "{'black': Color(x=0.0, y=0.0, z=0.0),\n",
      " 'blue': Color(x=0.0, y=0.0, z=1.0),\n",
      " 'cyan': Color(x=0.0, y=1.0, z=1.0),\n",
      " 'gray': Color(x=0.5019607843137255,\n",
      "               y=0.5019607843137255,\n",
      "               z=0.5019607843137255),\n",
      " 'green': Color(x=0.0, y=1.0, z=0.0),\n",
      " 'magenta': Color(x=1.0, y=0.0, z=1.0),\n",
      " 'red': Color(x=1.0, y=0.0, z=0.0),\n",
      " 'white': Color(x=1.0, y=1.0, z=1.0),\n",
      " 'yellow': Color(x=1.0, y=1.0, z=0.0)}\n",
      "Available colors: ['white', 'black', 'red', 'green', 'blue', 'gray', 'yellow', 'magenta', 'cyan']\n"
     ]
    }
   ],
   "execution_count": 3
  },
  {
   "metadata": {},
   "cell_type": "markdown",
   "source": "### Material creation and saving using PickleManager",
   "id": "94a49e4f8ad842c7"
  },
  {
   "metadata": {
    "ExecuteTime": {
     "end_time": "2025-10-06T19:49:46.031283Z",
     "start_time": "2025-10-06T19:49:46.025157Z"
    }
   },
   "cell_type": "code",
   "source": [
    "material = MaterialLibrary()\n",
    "\n",
    "# create some materials using the colors from the color library\n",
    "mate_white = Material.make(name=\"mate_white\", base_color=col.white, reflectivity=0.0, shininess=16)\n",
    "mate_blue = Material.make(\n",
    "    name=\"mate_blue\",\n",
    "    base_color=col.blue,\n",
    "    reflectivity=0.0,\n",
    "    shininess=16,\n",
    "    spec_color=col.white,\n",
    "    metallic=0.0,\n",
    "    transparency=0.0,\n",
    "    ior=1.0,\n",
    ")\n",
    "glossy_blue = Material.make(\n",
    "    name=\"glossy_blue\",\n",
    "    base_color=col.blue,\n",
    "    reflectivity=0.1,\n",
    "    shininess=64,\n",
    "    spec_color=col.white,\n",
    "    metallic=0.0,\n",
    ")\n",
    "glossy_red = Material.make(name=\"glossy_red\", base_color=col.red, reflectivity=0.5, shininess=64)\n",
    "glossy_green = Material.make(name=\"glossy_green\", base_color=col.green, reflectivity=0.5, shininess=64)\n",
    "mirror = Material.make(name=\"mirror\", base_color=col.gray, reflectivity=1.0, shininess=128)\n",
    "mate_black = Material.make(name=\"mate_green\", base_color=col.green, reflectivity=0.0, shininess=8)\n",
    "blue_glass = Material.make(name=\"blue_glass\", base_color=col.cyan, transparency=0.9, ior=1.5)\n",
    "\n",
    "# we can add these materials to the library later like this\n",
    "material.add(mate_white.name, mate_white)\n",
    "material.add(mate_blue.name, mate_blue)\n",
    "\n",
    "# or in loop like this\n",
    "\n",
    "for mat in [glossy_red, glossy_green, mirror, mate_black, blue_glass, glossy_blue]:\n",
    "    material.add(mat.name, mat)\n",
    "\n",
    "# save the material library using PickleManager\n",
    "pm.save_material_library(material)"
   ],
   "id": "1e99575125be7bca",
   "outputs": [
    {
     "name": "stdout",
     "output_type": "stream",
     "text": [
      "Saved object to pickle_data/materials.pkl\n",
      "{'blue_glass': Material(name='blue_glass',\n",
      "                        base_color=Color(x=0.0, y=1.0, z=1.0),\n",
      "                        reflectivity=0.0,\n",
      "                        spec_color=Color(x=1.0, y=1.0, z=1.0),\n",
      "                        shininess=32.0,\n",
      "                        emission=Color(x=0.0, y=0.0, z=0.0),\n",
      "                        transparency=0.9,\n",
      "                        ior=1.5,\n",
      "                        metallic=0.0),\n",
      " 'glossy_blue': Material(name='glossy_blue',\n",
      "                         base_color=Color(x=0.0, y=0.0, z=1.0),\n",
      "                         reflectivity=0.1,\n",
      "                         spec_color=Color(x=1.0, y=1.0, z=1.0),\n",
      "                         shininess=64,\n",
      "                         emission=Color(x=0.0, y=0.0, z=0.0),\n",
      "                         transparency=0.0,\n",
      "                         ior=1.5,\n",
      "                         metallic=0.0),\n",
      " 'glossy_green': Material(name='glossy_green',\n",
      "                          base_color=Color(x=0.0, y=1.0, z=0.0),\n",
      "                          reflectivity=0.5,\n",
      "                          spec_color=Color(x=1.0, y=1.0, z=1.0),\n",
      "                          shininess=64,\n",
      "                          emission=Color(x=0.0, y=0.0, z=0.0),\n",
      "                          transparency=0.0,\n",
      "                          ior=1.5,\n",
      "                          metallic=0.0),\n",
      " 'glossy_red': Material(name='glossy_red',\n",
      "                        base_color=Color(x=1.0, y=0.0, z=0.0),\n",
      "                        reflectivity=0.5,\n",
      "                        spec_color=Color(x=1.0, y=1.0, z=1.0),\n",
      "                        shininess=64,\n",
      "                        emission=Color(x=0.0, y=0.0, z=0.0),\n",
      "                        transparency=0.0,\n",
      "                        ior=1.5,\n",
      "                        metallic=0.0),\n",
      " 'mate_blue': Material(name='mate_blue',\n",
      "                       base_color=Color(x=0.0, y=0.0, z=1.0),\n",
      "                       reflectivity=0.0,\n",
      "                       spec_color=Color(x=1.0, y=1.0, z=1.0),\n",
      "                       shininess=16,\n",
      "                       emission=Color(x=0.0, y=0.0, z=0.0),\n",
      "                       transparency=0.0,\n",
      "                       ior=1.0,\n",
      "                       metallic=0.0),\n",
      " 'mate_green': Material(name='mate_green',\n",
      "                        base_color=Color(x=0.0, y=1.0, z=0.0),\n",
      "                        reflectivity=0.0,\n",
      "                        spec_color=Color(x=1.0, y=1.0, z=1.0),\n",
      "                        shininess=8,\n",
      "                        emission=Color(x=0.0, y=0.0, z=0.0),\n",
      "                        transparency=0.0,\n",
      "                        ior=1.5,\n",
      "                        metallic=0.0),\n",
      " 'mate_white': Material(name='mate_white',\n",
      "                        base_color=Color(x=1.0, y=1.0, z=1.0),\n",
      "                        reflectivity=0.0,\n",
      "                        spec_color=Color(x=1.0, y=1.0, z=1.0),\n",
      "                        shininess=16,\n",
      "                        emission=Color(x=0.0, y=0.0, z=0.0),\n",
      "                        transparency=0.0,\n",
      "                        ior=1.5,\n",
      "                        metallic=0.0),\n",
      " 'mirror': Material(name='mirror',\n",
      "                    base_color=Color(x=0.5019607843137255,\n",
      "                                     y=0.5019607843137255,\n",
      "                                     z=0.5019607843137255),\n",
      "                    reflectivity=1.0,\n",
      "                    spec_color=Color(x=1.0, y=1.0, z=1.0),\n",
      "                    shininess=128,\n",
      "                    emission=Color(x=0.0, y=0.0, z=0.0),\n",
      "                    transparency=0.0,\n",
      "                    ior=1.5,\n",
      "                    metallic=0.0)}\n"
     ]
    }
   ],
   "execution_count": 4
  },
  {
   "metadata": {},
   "cell_type": "markdown",
   "source": [
    "### Loading the material library using PickleManager we just created\n",
    "\n",
    "We can load the material library. This will be helpful later when we want to apply materials to objects."
   ],
   "id": "48c9d1072eb7b565"
  },
  {
   "metadata": {
    "ExecuteTime": {
     "end_time": "2025-10-06T19:49:46.048145Z",
     "start_time": "2025-10-06T19:49:46.043174Z"
    }
   },
   "cell_type": "code",
   "source": [
    "mat_lib = pm.load_material_library()\n",
    "\n",
    "print(\"Available materials:\", mat_lib.get_all_names())\n",
    "\n",
    "red_material = mat_lib.glossy_red\n",
    "print(red_material)\n",
    "#..."
   ],
   "id": "7ff1ad94dac99e26",
   "outputs": [
    {
     "name": "stdout",
     "output_type": "stream",
     "text": [
      "Loaded object from pickle_data/materials.pkl\n",
      "{'blue_glass': Material(name='blue_glass',\n",
      "                        base_color=Color(x=0.0, y=1.0, z=1.0),\n",
      "                        reflectivity=0.0,\n",
      "                        spec_color=Color(x=1.0, y=1.0, z=1.0),\n",
      "                        shininess=32.0,\n",
      "                        emission=Color(x=0.0, y=0.0, z=0.0),\n",
      "                        transparency=0.9,\n",
      "                        ior=1.5,\n",
      "                        metallic=0.0),\n",
      " 'glossy_blue': Material(name='glossy_blue',\n",
      "                         base_color=Color(x=0.0, y=0.0, z=1.0),\n",
      "                         reflectivity=0.1,\n",
      "                         spec_color=Color(x=1.0, y=1.0, z=1.0),\n",
      "                         shininess=64,\n",
      "                         emission=Color(x=0.0, y=0.0, z=0.0),\n",
      "                         transparency=0.0,\n",
      "                         ior=1.5,\n",
      "                         metallic=0.0),\n",
      " 'glossy_green': Material(name='glossy_green',\n",
      "                          base_color=Color(x=0.0, y=1.0, z=0.0),\n",
      "                          reflectivity=0.5,\n",
      "                          spec_color=Color(x=1.0, y=1.0, z=1.0),\n",
      "                          shininess=64,\n",
      "                          emission=Color(x=0.0, y=0.0, z=0.0),\n",
      "                          transparency=0.0,\n",
      "                          ior=1.5,\n",
      "                          metallic=0.0),\n",
      " 'glossy_red': Material(name='glossy_red',\n",
      "                        base_color=Color(x=1.0, y=0.0, z=0.0),\n",
      "                        reflectivity=0.5,\n",
      "                        spec_color=Color(x=1.0, y=1.0, z=1.0),\n",
      "                        shininess=64,\n",
      "                        emission=Color(x=0.0, y=0.0, z=0.0),\n",
      "                        transparency=0.0,\n",
      "                        ior=1.5,\n",
      "                        metallic=0.0),\n",
      " 'mate_blue': Material(name='mate_blue',\n",
      "                       base_color=Color(x=0.0, y=0.0, z=1.0),\n",
      "                       reflectivity=0.0,\n",
      "                       spec_color=Color(x=1.0, y=1.0, z=1.0),\n",
      "                       shininess=16,\n",
      "                       emission=Color(x=0.0, y=0.0, z=0.0),\n",
      "                       transparency=0.0,\n",
      "                       ior=1.0,\n",
      "                       metallic=0.0),\n",
      " 'mate_green': Material(name='mate_green',\n",
      "                        base_color=Color(x=0.0, y=1.0, z=0.0),\n",
      "                        reflectivity=0.0,\n",
      "                        spec_color=Color(x=1.0, y=1.0, z=1.0),\n",
      "                        shininess=8,\n",
      "                        emission=Color(x=0.0, y=0.0, z=0.0),\n",
      "                        transparency=0.0,\n",
      "                        ior=1.5,\n",
      "                        metallic=0.0),\n",
      " 'mate_white': Material(name='mate_white',\n",
      "                        base_color=Color(x=1.0, y=1.0, z=1.0),\n",
      "                        reflectivity=0.0,\n",
      "                        spec_color=Color(x=1.0, y=1.0, z=1.0),\n",
      "                        shininess=16,\n",
      "                        emission=Color(x=0.0, y=0.0, z=0.0),\n",
      "                        transparency=0.0,\n",
      "                        ior=1.5,\n",
      "                        metallic=0.0),\n",
      " 'mirror': Material(name='mirror',\n",
      "                    base_color=Color(x=0.5019607843137255,\n",
      "                                     y=0.5019607843137255,\n",
      "                                     z=0.5019607843137255),\n",
      "                    reflectivity=1.0,\n",
      "                    spec_color=Color(x=1.0, y=1.0, z=1.0),\n",
      "                    shininess=128,\n",
      "                    emission=Color(x=0.0, y=0.0, z=0.0),\n",
      "                    transparency=0.0,\n",
      "                    ior=1.5,\n",
      "                    metallic=0.0)}\n",
      "Available materials: ['mate_white', 'mate_blue', 'glossy_red', 'glossy_green', 'mirror', 'mate_green', 'blue_glass', 'glossy_blue']\n",
      "Material(name='glossy_red', base_color=Color(x=1.0, y=0.0, z=0.0), reflectivity=0.5, spec_color=Color(x=1.0, y=1.0, z=1.0), shininess=64, emission=Color(x=0.0, y=0.0, z=0.0), transparency=0.0, ior=1.5, metallic=0.0)\n"
     ]
    }
   ],
   "execution_count": 5
  }
 ],
 "metadata": {
  "kernelspec": {
   "display_name": "Python 3",
   "language": "python",
   "name": "python3"
  },
  "language_info": {
   "codemirror_mode": {
    "name": "ipython",
    "version": 2
   },
   "file_extension": ".py",
   "mimetype": "text/x-python",
   "name": "python",
   "nbconvert_exporter": "python",
   "pygments_lexer": "ipython2",
   "version": "2.7.6"
  }
 },
 "nbformat": 4,
 "nbformat_minor": 5
}
