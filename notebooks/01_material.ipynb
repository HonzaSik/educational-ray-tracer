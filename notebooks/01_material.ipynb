{
 "cells": [
  {
   "metadata": {},
   "cell_type": "code",
   "source": [
    "from src import Color, ColorLibrary\n",
    "from src import Material, MaterialLibrary\n",
    "from src.material.material import Material, MaterialType, create_phong_material\n",
    "from src import PickleManager\n",
    "\n",
    "pm = PickleManager(directory=\"./pickle_data\", verbose=True)"
   ],
   "id": "ab23c537c0028d47",
   "outputs": [],
   "execution_count": null
  },
  {
   "metadata": {},
   "cell_type": "markdown",
   "source": [
    "# Material and Color\n",
    "\n",
    "This notebook demonstrates how to create and manage materials and colors using the `Material`, `Color`, `MaterialLibrary`, and `ColorLibrary` classes, along with the `PickleManager` for saving and loading these libraries.\n",
    "\n",
    "### Color creation and saving using PickleManager"
   ],
   "id": "31b8afbc1a2b7778"
  },
  {
   "metadata": {},
   "cell_type": "code",
   "source": [
    "colors = ColorLibrary()\n",
    "\n",
    "colors.add(\"white\", Color.custom_rgb(255, 255, 255))\n",
    "colors.add(\"black\", Color.custom_rgb(0, 0, 0))\n",
    "colors.add(\"red\", Color.custom_rgb(255, 0, 0))\n",
    "colors.add(\"green\", Color.custom_rgb(0, 255, 0))\n",
    "colors.add(\"blue\", Color.custom_rgb(0, 0, 255))\n",
    "colors.add(\"gray\", Color.custom_rgb(128, 128, 128))\n",
    "colors.add(\"yellow\", Color.custom_rgb(255, 255, 0))\n",
    "colors.add(\"magenta\", Color.custom_rgb(255, 0, 255))\n",
    "colors.add(\"cyan\", Color.custom_rgb(0, 255, 255))\n",
    "\n",
    "pm.save_color_library(colors)"
   ],
   "id": "39a2eba8a7d65096",
   "outputs": [],
   "execution_count": null
  },
  {
   "metadata": {},
   "cell_type": "markdown",
   "source": "### Loading the color library using PickleManager we just created",
   "id": "d860ba1fa7f9c84f"
  },
  {
   "metadata": {},
   "cell_type": "code",
   "source": [
    "# we can load the color library we just saved\n",
    "col = pm.load_color_library()\n",
    "\n",
    "# we can access colors as attributes these are the same as we defined above\n",
    "print(\"Available colors:\", col.get_all_names())\n",
    "\n",
    "WHITE = col.white\n",
    "BLACK = col.black\n",
    "#..."
   ],
   "id": "e316b928b2e52e8",
   "outputs": [],
   "execution_count": null
  },
  {
   "metadata": {},
   "cell_type": "markdown",
   "source": "### Material creation and saving using PickleManager",
   "id": "94a49e4f8ad842c7"
  },
  {
   "metadata": {},
   "cell_type": "code",
   "source": [
    "material = MaterialLibrary()\n",
    "\n",
    "# create some materials using the colors from the color library\n",
    "mate_white = create_phong_material(name=\"mate_white\", base_color=col.white, spec_color=col.gray, shininess=10, ior=1.0, reflectivity=0.0, transparency=0.0)\n",
    "mate_blue = create_phong_material(name=\"mate_blue\", base_color=col.blue, spec_color=col.gray, shininess=10, ior=1.0, reflectivity=0.0, transparency=0.0)\n",
    "mate_green = create_phong_material(name=\"mate_green\", base_color=col.green, spec_color=col.gray, shininess=10, ior=1.0, reflectivity=0.0, transparency=0.0)\n",
    "glossy_red = create_phong_material(name=\"glossy_red\", base_color=col.red, spec_color=col.white, shininess=100, ior=1.0, reflectivity=0.5, transparency=0.0)\n",
    "glossy_green = create_phong_material(name=\"glossy_green\", base_color=col.green, spec_color=col.white, shininess=100, ior=1.0, reflectivity=0.15, transparency=0.0)\n",
    "glossy_blue = create_phong_material(name=\"glossy_blue\", base_color=col.blue, spec_color=col.white, shininess=100, ior=1.0, reflectivity=0.5, transparency=0.0)\n",
    "mirror = create_phong_material(name=\"mirror\", base_color=col.gray, spec_color=col.white, shininess=244, ior=1.0, reflectivity=1.0, transparency=0.0)\n",
    "glass = create_phong_material(\n",
    "    name=\"glass\",\n",
    "    base_color=col.white,\n",
    "    spec_color=col.white,\n",
    "    shininess=244,\n",
    "    ior=1.5,\n",
    "    reflectivity=0.04,\n",
    "    transparency=0.96\n",
    ")\n",
    "\n",
    "red_glass = create_phong_material(name=\"red_glass\", base_color=col.red, spec_color=col.white, shininess=300, ior=1.5, reflectivity=0.01, transparency=0.9)\n",
    "blue_glass = create_phong_material(name=\"blue_glass\", base_color=col.blue, spec_color=col.white, shininess=300, ior=1.5, reflectivity=0.1, transparency=0.9)\n",
    "brown = create_phong_material(name=\"brown\", base_color=Color.custom_rgb(150, 75, 0), spec_color=col.gray, shininess=10, ior=1.0, reflectivity=0.15, transparency=0.0)\n",
    "\n",
    "# we can add these materials to the library later like this\n",
    "material.add(mate_white.name, mate_white)\n",
    "material.add(mate_blue.name, mate_blue)\n",
    "\n",
    "# or in loop like this\n",
    "\n",
    "for mat in [glossy_red, glossy_green, mirror, mate_green, blue_glass, glossy_blue, glass, red_glass, brown]:\n",
    "    material.add(mat.name, mat)\n",
    "\n",
    "# save the material library using PickleManager\n",
    "pm.save_material_library(material)"
   ],
   "id": "1e99575125be7bca",
   "outputs": [],
   "execution_count": null
  },
  {
   "metadata": {},
   "cell_type": "markdown",
   "source": [
    "### Loading the material library using PickleManager we just created\n",
    "\n",
    "We can load the material library. This will be helpful later when we want to apply materials to objects."
   ],
   "id": "48c9d1072eb7b565"
  },
  {
   "metadata": {},
   "cell_type": "code",
   "source": [
    "mat_lib = pm.load_material_library()\n",
    "\n",
    "print(\"Available materials:\", mat_lib.get_all_names())\n",
    "\n",
    "red_material = mat_lib.glossy_red\n",
    "print(red_material)\n",
    "#..."
   ],
   "id": "7ff1ad94dac99e26",
   "outputs": [],
   "execution_count": null
  },
  {
   "metadata": {},
   "cell_type": "markdown",
   "source": "now we have set up color and materials so we can move on to creating objects and adding them to the world in the next notebook.",
   "id": "20f0b6720bb91d4f"
  }
 ],
 "metadata": {
  "kernelspec": {
   "display_name": "Python 3",
   "language": "python",
   "name": "python3"
  },
  "language_info": {
   "codemirror_mode": {
    "name": "ipython",
    "version": 2
   },
   "file_extension": ".py",
   "mimetype": "text/x-python",
   "name": "python",
   "nbconvert_exporter": "python",
   "pygments_lexer": "ipython2",
   "version": "2.7.6"
  }
 },
 "nbformat": 4,
 "nbformat_minor": 5
}
