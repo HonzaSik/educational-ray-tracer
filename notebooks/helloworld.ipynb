{
 "cells": [
  {
   "cell_type": "code",
   "id": "initial_id",
   "metadata": {
    "collapsed": true
   },
   "source": [
    "from src import Color\n",
    "from src.material.material import create_phong_material\n",
    "from src import World\n",
    "from src import Sphere, Plane\n",
    "from src import PointLight\n",
    "from src import ipynb_display_image\n",
    "from src import Resolution\n",
    "from src import Camera\n",
    "from src import Vertex, Vector\n",
    "from src import Scene"
   ],
   "outputs": [],
   "execution_count": null
  },
  {
   "metadata": {},
   "cell_type": "markdown",
   "source": [
    "# Simple scene with a sphere and a plane and a light source\n",
    "no skybox just to demonstrate basic functionality"
   ],
   "id": "65b0f0c3e021d912"
  },
  {
   "metadata": {},
   "cell_type": "code",
   "source": [
    "# colors\n",
    "brown = Color.custom_rgb(150, 75, 0)\n",
    "red = Color.custom_rgb(255, 0, 0)\n",
    "\n",
    "# materials\n",
    "glossy_red = create_phong_material(name=\"glossy_red\", base_color=red, spec_color=Color.custom_rgb(255, 255, 255), shininess=100, ior=1.0, reflectivity=0.3, transparency=0.0)\n",
    "mate_blue = create_phong_material(name=\"mate_blue\", base_color=Color.custom_rgb(0, 0, 255), spec_color=Color.custom_rgb(128, 128, 128), shininess=10, ior=1.0, reflectivity=0.05, transparency=0.0)\n",
    "\n",
    "# objects\n",
    "sphere = Sphere(center=Vertex(0, 0.2, -5), radius=1.0, material=glossy_red)\n",
    "plane = Plane(point=Vertex(0, -1, 0), normal=Vector(0, 1, 0), material=mate_blue)\n",
    "\n",
    "# world\n",
    "world = World()\n",
    "world.add(sphere)\n",
    "world.add(plane)\n",
    "\n",
    "# lights\n",
    "point_light = PointLight(position=Vertex(5, 5, 0), intensity=2000.0, falloff=0.01)\n",
    "\n",
    "# scene setup\n",
    "camera = Camera(\n",
    "    fov = 40,\n",
    "    resolution = Resolution.R144p,\n",
    "    origin = Vertex(0, 0, 0),\n",
    "    direction = Vector(0, 0, -1),\n",
    ")\n",
    "\n",
    "scene = Scene(\n",
    "    camera = camera,\n",
    "    world = world,\n",
    "    lights = [point_light],\n",
    "    skybox_path = None\n",
    ")\n",
    "\n",
    "scene.validate()"
   ],
   "id": "e4fad38c0223b56f",
   "outputs": [],
   "execution_count": null
  },
  {
   "metadata": {},
   "cell_type": "markdown",
   "source": [
    "# Now we can render the scene\n",
    "\n",
    "### Preview"
   ],
   "id": "830421e6a7540f60"
  },
  {
   "metadata": {},
   "cell_type": "code",
   "source": [
    "#prewiew render with no antialiasing, no recursion and no skybox at 144p resolution for speed just to see all objects in the scene\n",
    "scene.render_preview()"
   ],
   "id": "4e469cbfadd62e0e",
   "outputs": [],
   "execution_count": null
  },
  {
   "metadata": {},
   "cell_type": "markdown",
   "source": "Render",
   "id": "59fe6c2635a888e8"
  },
  {
   "metadata": {},
   "cell_type": "code",
   "source": [
    "#set your desired resolution here\n",
    "scene.set_camera_resolution(Resolution.R360p)\n",
    "# render it\n",
    "png = scene.render_phong(\n",
    "    samples_per_pixel=4,\n",
    "    max_depth=3,\n",
    "    image_png_path=\"./images/helloworld.png\"\n",
    ")\n",
    "# display in the notebook\n",
    "ipynb_display_image(png)"
   ],
   "id": "e841c05f1b22c87b",
   "outputs": [],
   "execution_count": null
  }
 ],
 "metadata": {
  "kernelspec": {
   "display_name": "Python 3",
   "language": "python",
   "name": "python3"
  },
  "language_info": {
   "codemirror_mode": {
    "name": "ipython",
    "version": 2
   },
   "file_extension": ".py",
   "mimetype": "text/x-python",
   "name": "python",
   "nbconvert_exporter": "python",
   "pygments_lexer": "ipython2",
   "version": "2.7.6"
  }
 },
 "nbformat": 4,
 "nbformat_minor": 5
}
