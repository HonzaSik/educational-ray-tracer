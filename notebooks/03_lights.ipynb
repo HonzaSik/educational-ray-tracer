{
 "cells": [
  {
   "cell_type": "code",
   "id": "initial_id",
   "metadata": {
    "collapsed": true,
    "ExecuteTime": {
     "end_time": "2025-10-15T17:44:38.308646Z",
     "start_time": "2025-10-15T17:44:38.186574Z"
    }
   },
   "source": [
    "from src import PickleManager, LightLibrary\n",
    "from src import AmbientLight, PointLight\n",
    "from src import Vertex\n",
    "\n",
    "pm = PickleManager(directory=\"./pickle_data\", verbose=True)"
   ],
   "outputs": [],
   "execution_count": 1
  },
  {
   "metadata": {},
   "cell_type": "markdown",
   "source": [
    "# Lights\n",
    "We will create a light library with an ambient light and a point light, then save it using the PickleManager."
   ],
   "id": "ca752ca160cd1157"
  },
  {
   "metadata": {
    "ExecuteTime": {
     "end_time": "2025-10-15T17:44:38.402375Z",
     "start_time": "2025-10-15T17:44:38.397940Z"
    }
   },
   "cell_type": "code",
   "source": [
    "lights = LightLibrary()\n",
    "\n",
    "lights.add(\"ambient\", AmbientLight(position=Vertex(0, 0, 0), intensity=0.0)) # ambient light turned off for now\n",
    "lights.add(\"point\", PointLight(position=Vertex(5, 5, 2), intensity=2000.0, falloff=0.1))\n",
    "lights.add(\"point2\", PointLight(position=Vertex(-5, 5, 2), intensity=2000.0, falloff=0.1))\n",
    "lights.add(\"point3\", PointLight(position=Vertex(0, 5, -5), intensity=2000.0, falloff=0.1))\n",
    "\n",
    "pm.save_light_library(lights)\n"
   ],
   "id": "bcb586e2f7837ddf",
   "outputs": [
    {
     "name": "stdout",
     "output_type": "stream",
     "text": [
      "Saved object to pickle_data/lights.pkl\n",
      "{'ambient': AmbientLight(position=Vec3(0.000, 0.000, 0.000),\n",
      "                         intensity=0.0,\n",
      "                         falloff=1.0,\n",
      "                         type=<LightType.AMBIENT: 'ambient'>),\n",
      " 'point': PointLight(position=Vec3(5.000, 5.000, 2.000),\n",
      "                     intensity=2000.0,\n",
      "                     falloff=0.1,\n",
      "                     type=<LightType.POINT: 'point'>),\n",
      " 'point2': PointLight(position=Vec3(-5.000, 5.000, 2.000),\n",
      "                      intensity=2000.0,\n",
      "                      falloff=0.1,\n",
      "                      type=<LightType.POINT: 'point'>),\n",
      " 'point3': PointLight(position=Vec3(0.000, 5.000, -5.000),\n",
      "                      intensity=2000.0,\n",
      "                      falloff=0.1,\n",
      "                      type=<LightType.POINT: 'point'>)}\n"
     ]
    }
   ],
   "execution_count": 2
  },
  {
   "metadata": {},
   "cell_type": "markdown",
   "source": "# Loading lights",
   "id": "f89528f58902bcfa"
  },
  {
   "metadata": {
    "ExecuteTime": {
     "end_time": "2025-10-15T17:44:38.409694Z",
     "start_time": "2025-10-15T17:44:38.406126Z"
    }
   },
   "cell_type": "code",
   "source": [
    "light_lib = pm.load_light_library()\n",
    "\n",
    "print(\"Available lights:\", light_lib.get_all_names())\n",
    "\n",
    "ambient_lights = light_lib.get_ambient_light()\n",
    "point_light = light_lib.get_point_lights()\n",
    "\n",
    "print(\"Ambient Light:\", ambient_lights)\n",
    "print(\"Point Light:\", point_light)"
   ],
   "id": "e6f327f73bc82d11",
   "outputs": [
    {
     "name": "stdout",
     "output_type": "stream",
     "text": [
      "Loaded object from pickle_data/lights.pkl\n",
      "{'ambient': AmbientLight(position=Vec3(0.000, 0.000, 0.000),\n",
      "                         intensity=0.0,\n",
      "                         falloff=1.0,\n",
      "                         type=<LightType.AMBIENT: 'ambient'>),\n",
      " 'point': PointLight(position=Vec3(5.000, 5.000, 2.000),\n",
      "                     intensity=2000.0,\n",
      "                     falloff=0.1,\n",
      "                     type=<LightType.POINT: 'point'>),\n",
      " 'point2': PointLight(position=Vec3(-5.000, 5.000, 2.000),\n",
      "                      intensity=2000.0,\n",
      "                      falloff=0.1,\n",
      "                      type=<LightType.POINT: 'point'>),\n",
      " 'point3': PointLight(position=Vec3(0.000, 5.000, -5.000),\n",
      "                      intensity=2000.0,\n",
      "                      falloff=0.1,\n",
      "                      type=<LightType.POINT: 'point'>)}\n",
      "Available lights: ['ambient', 'point', 'point2', 'point3']\n",
      "Ambient Light: AmbientLight(position=Vec3(0.000, 0.000, 0.000), intensity=0.0, falloff=1.0, type=<LightType.AMBIENT: 'ambient'>)\n",
      "Point Light: [PointLight(position=Vec3(5.000, 5.000, 2.000), intensity=2000.0, falloff=0.1, type=<LightType.POINT: 'point'>), PointLight(position=Vec3(-5.000, 5.000, 2.000), intensity=2000.0, falloff=0.1, type=<LightType.POINT: 'point'>), PointLight(position=Vec3(0.000, 5.000, -5.000), intensity=2000.0, falloff=0.1, type=<LightType.POINT: 'point'>)]\n"
     ]
    }
   ],
   "execution_count": 3
  }
 ],
 "metadata": {
  "kernelspec": {
   "display_name": "Python 3",
   "language": "python",
   "name": "python3"
  },
  "language_info": {
   "codemirror_mode": {
    "name": "ipython",
    "version": 2
   },
   "file_extension": ".py",
   "mimetype": "text/x-python",
   "name": "python",
   "nbconvert_exporter": "python",
   "pygments_lexer": "ipython2",
   "version": "2.7.6"
  }
 },
 "nbformat": 4,
 "nbformat_minor": 5
}
