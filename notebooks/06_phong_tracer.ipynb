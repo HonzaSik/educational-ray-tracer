{
 "cells": [
  {
   "metadata": {},
   "cell_type": "code",
   "source": [
    "from src import PickleManager\n",
    "from src import Resolution\n",
    "from src import ipynb_display_image\n",
    "\n",
    "pm = PickleManager(directory=\"./pickle_data\", verbose=True)"
   ],
   "id": "3d732b26f0bf86f5",
   "outputs": [],
   "execution_count": null
  },
  {
   "metadata": {},
   "cell_type": "markdown",
   "source": [
    "# Loading the scene and rendering with the blinn-phong tracer at different resolutions\n",
    "\n",
    "Now we can load the scene and render a preview at a chosen resolution (144p here for speed)"
   ],
   "id": "bee689bf1d788e98"
  },
  {
   "metadata": {
    "collapsed": true
   },
   "cell_type": "code",
   "source": "scene = pm.load_scene(\"spheres\")",
   "id": "initial_id",
   "outputs": [],
   "execution_count": null
  },
  {
   "metadata": {},
   "cell_type": "code",
   "source": [
    "scene.set_camera_resolution(Resolution.R144p)\n",
    "png = scene.render_phong(\n",
    "    samples_per_pixel=1,\n",
    "    max_depth=20,\n",
    "    image_png_path=\"./images/phong.png\"\n",
    ")\n",
    "\n",
    "print(f\"Rendered image saved to {png}\")\n",
    "\n",
    "ipynb_display_image(png)\n",
    "\n",
    "# multithreaded renderer doesnt show progress because of speed\n",
    "scene.set_camera_resolution(Resolution.HD)\n",
    "png_hd = scene.render_multithreaded(\n",
    "    samples_per_pixel=6,\n",
    "    max_depth=80,\n",
    "    image_png_path=\"./images/phong_hd.png\"\n",
    ")\n",
    "\n",
    "# single thread renderer\n",
    "ipynb_display_image(png_hd)\n",
    "png_hd = scene.render_phong(\n",
    "    samples_per_pixel=6,\n",
    "    max_depth=80,\n",
    "    image_png_path=\"./images/phong_hd.png\"\n",
    ")\n",
    "\n",
    "ipynb_display_image(png_hd)"
   ],
   "id": "cf4a3c291704ecd1",
   "outputs": [],
   "execution_count": null
  }
 ],
 "metadata": {
  "kernelspec": {
   "display_name": "Python 3",
   "language": "python",
   "name": "python3"
  },
  "language_info": {
   "codemirror_mode": {
    "name": "ipython",
    "version": 2
   },
   "file_extension": ".py",
   "mimetype": "text/x-python",
   "name": "python",
   "nbconvert_exporter": "python",
   "pygments_lexer": "ipython2",
   "version": "2.7.6"
  }
 },
 "nbformat": 4,
 "nbformat_minor": 5
}
