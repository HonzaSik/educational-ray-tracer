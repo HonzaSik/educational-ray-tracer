{
 "cells": [
  {
   "metadata": {},
   "cell_type": "markdown",
   "source": "# Not implemented yet",
   "id": "ebeab075df16da29"
  },
  {
   "metadata": {},
   "cell_type": "code",
   "source": "#todo",
   "id": "fe775dc1edb6ff9c",
   "outputs": [],
   "execution_count": null
  }
 ],
 "metadata": {
  "kernelspec": {
   "display_name": "Python 3",
   "language": "python",
   "name": "python3"
  },
  "language_info": {
   "codemirror_mode": {
    "name": "ipython",
    "version": 2
   },
   "file_extension": ".py",
   "mimetype": "text/x-python",
   "name": "python",
   "nbconvert_exporter": "python",
   "pygments_lexer": "ipython2",
   "version": "2.7.6"
  }
 },
 "nbformat": 4,
 "nbformat_minor": 5
}
