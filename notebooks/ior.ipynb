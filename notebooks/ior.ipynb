{
 "cells": [
  {
   "cell_type": "code",
   "id": "initial_id",
   "metadata": {
    "collapsed": true
   },
   "source": [
    "from src import Color\n",
    "from src.material.material import create_phong_material\n",
    "from src import World\n",
    "from src import Sphere, Plane\n",
    "from src import PointLight\n",
    "from src import ipynb_display_image\n",
    "from src import Resolution\n",
    "from src import Camera\n",
    "from src import Vertex, Vector\n",
    "from src import Scene"
   ],
   "outputs": [],
   "execution_count": null
  },
  {
   "metadata": {},
   "cell_type": "markdown",
   "source": "",
   "id": "90f51c94d3f36d56"
  },
  {
   "metadata": {},
   "cell_type": "code",
   "source": [
    "# colors\n",
    "brown = Color.custom_rgb(150, 75, 0)\n",
    "red   = Color.custom_rgb(255, 0, 0)\n",
    "white = Color.custom_rgb(245, 245, 245)\n",
    "green = Color.custom_rgb(30, 180, 120)\n",
    "gray  = Color.custom_rgb(200, 200, 200)\n",
    "\n",
    "# --- materials (vary IOR only) ---\n",
    "glass_spec = Color.custom_rgb(255, 255, 255)\n",
    "\n",
    "\n",
    "ior_oil     = create_phong_material(\"ior_air\",     base_color=red, spec_color=glass_spec,\n",
    "                                    shininess=64, ior=1.2, reflectivity=0.0, transparency=0.95)\n",
    "ior_glass   = create_phong_material(\"ior_glass\",   base_color=red, spec_color=glass_spec,\n",
    "                                    shininess=64, ior=1.33, reflectivity=0.0, transparency=0.95)\n",
    "ior_crystal = create_phong_material(\"ior_crystal\", base_color=red, spec_color=glass_spec,\n",
    "                                    shininess=64, ior=1.5, reflectivity=0.0, transparency=0.95)\n",
    "ior_diamond = create_phong_material(\"ior_diamond\", base_color=red, spec_color=glass_spec,\n",
    "                                    shininess=64, ior=2.4, reflectivity=0.0, transparency=0.95)\n",
    "\n",
    "\n",
    "matte_ground = create_phong_material(\"matte_ground\", base_color=gray,\n",
    "                                     spec_color=Color.custom_rgb(80, 80, 80),\n",
    "                                     shininess=8, reflectivity=0.0)\n",
    "\n",
    "\n",
    "sphere1 = Sphere(center=Vertex(-3.5, 0.2, -5), radius=1.0, material=ior_oil)\n",
    "sphere2 = Sphere(center=Vertex(-1.1, 0.2, -5), radius=1.0, material=ior_glass)\n",
    "sphere3 = Sphere(center=Vertex( 1.1, 0.2, -5), radius=1.0, material=ior_crystal)\n",
    "sphere4 = Sphere(center=Vertex( 3.5, 0.2, -5), radius=1.0, material=ior_diamond)\n",
    "\n",
    "# ground plane\n",
    "plane = Plane(point=Vertex(0, -1, 0), normal=Vector(0, 1, 0), material=matte_ground)\n",
    "\n",
    "# --- world ---\n",
    "world = World()\n",
    "for obj in (sphere1, sphere2, sphere3, sphere4, plane):\n",
    "    world.add(obj)\n",
    "\n",
    "# --- lights ---\n",
    "point_light = PointLight(position=Vertex(5, 6, -1), intensity=1600.0, falloff=0.02)\n",
    "\n",
    "# --- camera / scene ---\n",
    "camera = Camera(\n",
    "    fov=65,\n",
    "    resolution=Resolution.R360p,\n",
    "    origin=Vertex(0, 0, 0),\n",
    "    direction=Vector(0, 0, -1),\n",
    ")\n",
    "\n",
    "scene = Scene(\n",
    "    camera=camera,\n",
    "    world=world,\n",
    "    lights=[point_light],\n",
    "    skybox_path=\"./skybox/shanghai_4k.hdr\"\n",
    ")\n",
    "\n",
    "scene.validate()\n",
    "scene.render_phong(\n",
    "    samples_per_pixel=2,\n",
    "    max_depth=6,\n",
    "    image_png_path=\"./images/ior_test.png\"\n",
    ")\n",
    "\n",
    "ipynb_display_image(\"./images/ior_test.png\")\n"
   ],
   "id": "43280aa36c1ef86a",
   "outputs": [],
   "execution_count": null
  },
  {
   "metadata": {},
   "cell_type": "code",
   "source": [
    "scene.render_multithreaded(\n",
    "    samples_per_pixel=2,\n",
    "    max_depth=6,\n",
    "    image_png_path=\"./images/ior_test_multithreaded.png\"\n",
    ")\n",
    "ipynb_display_image(\"./images/ior_test_multithreaded.png\")"
   ],
   "id": "f09778eace636897",
   "outputs": [],
   "execution_count": null
  }
 ],
 "metadata": {
  "kernelspec": {
   "display_name": "Python 3",
   "language": "python",
   "name": "python3"
  },
  "language_info": {
   "codemirror_mode": {
    "name": "ipython",
    "version": 2
   },
   "file_extension": ".py",
   "mimetype": "text/x-python",
   "name": "python",
   "nbconvert_exporter": "python",
   "pygments_lexer": "ipython2",
   "version": "2.7.6"
  }
 },
 "nbformat": 4,
 "nbformat_minor": 5
}
