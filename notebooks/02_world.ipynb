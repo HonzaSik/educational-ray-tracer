{
 "cells": [
  {
   "metadata": {
    "ExecuteTime": {
     "end_time": "2025-10-15T17:44:33.387824Z",
     "start_time": "2025-10-15T17:44:33.384703Z"
    }
   },
   "cell_type": "code",
   "source": [
    "# from src import Color, ColorLibrary\n",
    "# from src import Material, MaterialLibrary\n",
    "from src import World\n",
    "from src import PickleManager\n",
    "from src import Sphere, Square, Plane, Triangle\n",
    "from src import Vertex, Vector\n",
    "\n",
    "\n",
    "pm = PickleManager(directory=\"./pickle_data\", verbose=True)"
   ],
   "id": "b87965ad91febf9b",
   "outputs": [],
   "execution_count": 4
  },
  {
   "metadata": {},
   "cell_type": "markdown",
   "source": [
    "# World\n",
    "\n",
    "#### World works as a container for all objects in the scene with their materials.\n",
    "Contains all objects in the scene and supports ray intersection with all objects.\n",
    "\n",
    "### Create objects and add them to the world"
   ],
   "id": "64dbb22125b0f60e"
  },
  {
   "metadata": {
    "ExecuteTime": {
     "end_time": "2025-10-15T17:44:33.401985Z",
     "start_time": "2025-10-15T17:44:33.394349Z"
    }
   },
   "cell_type": "code",
   "source": [
    "material = pm.load_material_library()\n",
    "\n",
    "# create some objects and add them to the world\n",
    "objects = [\n",
    "    Square(vertex=Vertex(-5, -1, -9), diagonal_vertex= Vertex(5, -1, -2), material=material.brown),\n",
    "    Square(vertex=Vertex(-5, -1, -2), diagonal_vertex= Vertex(5, -8, -2), material=material.mate_green),\n",
    "    Sphere(center=Vertex(0, 0, -5), radius=1.0, material=material.mirror),\n",
    "    Sphere(center=Vertex(2, 0, -5), radius=1.0, material=material.glossy_red),\n",
    "    Sphere(center=Vertex(0, -0.4, -3), radius=0.5, material=material.mate_blue),\n",
    "    Sphere(center=Vertex(0.05, 0.9, 0.5), radius=0.15, material=material.blue_glass),\n",
    "    Sphere(center=Vertex(-4, 2, -8), radius=2.0, material=material.glossy_blue),\n",
    "    Sphere(center=Vertex(4, 2.5, -10), radius=1.5, material=material.glass),\n",
    "    Sphere(center=Vertex(2, 3.5, -7), radius=1, material=material.glass),\n",
    "    Sphere(center=Vertex(3, 4.5, -6), radius=1, material=material.glass),\n",
    "]\n",
    "\n",
    "world = World()\n",
    "for obj in objects:\n",
    "    world.add(obj)\n",
    "\n",
    "pm.save_world(world)"
   ],
   "id": "b3ad65c7b33f2f96",
   "outputs": [
    {
     "name": "stdout",
     "output_type": "stream",
     "text": [
      "Loaded object from pickle_data/materials.pkl\n",
      "{'blue_glass': Material(name='blue_glass',\n",
      "                        material_type=<MaterialType.PHONG: 1>,\n",
      "                        base_color=Vec3(0.000, 0.000, 1.000),\n",
      "                        emission=Vec3(0.000, 0.000, 0.000),\n",
      "                        spec_color=Vec3(1.000, 1.000, 1.000),\n",
      "                        shininess=300,\n",
      "                        ior=1.5,\n",
      "                        metallic=0.0,\n",
      "                        roughness=0.0,\n",
      "                        reflectivity=0.1,\n",
      "                        transparency=0.9),\n",
      " 'brown': Material(name='brown',\n",
      "                   material_type=<MaterialType.PHONG: 1>,\n",
      "                   base_color=Vec3(0.588, 0.294, 0.000),\n",
      "                   emission=Vec3(0.000, 0.000, 0.000),\n",
      "                   spec_color=Vec3(0.502, 0.502, 0.502),\n",
      "                   shininess=10,\n",
      "                   ior=1.0,\n",
      "                   metallic=0.0,\n",
      "                   roughness=0.0,\n",
      "                   reflectivity=0.15,\n",
      "                   transparency=0.0),\n",
      " 'glass': Material(name='glass',\n",
      "                   material_type=<MaterialType.PHONG: 1>,\n",
      "                   base_color=Vec3(1.000, 1.000, 1.000),\n",
      "                   emission=Vec3(0.000, 0.000, 0.000),\n",
      "                   spec_color=Vec3(1.000, 1.000, 1.000),\n",
      "                   shininess=244,\n",
      "                   ior=1.5,\n",
      "                   metallic=0.0,\n",
      "                   roughness=0.0,\n",
      "                   reflectivity=0.04,\n",
      "                   transparency=0.96),\n",
      " 'glossy_blue': Material(name='glossy_blue',\n",
      "                         material_type=<MaterialType.PHONG: 1>,\n",
      "                         base_color=Vec3(0.000, 0.000, 1.000),\n",
      "                         emission=Vec3(0.000, 0.000, 0.000),\n",
      "                         spec_color=Vec3(1.000, 1.000, 1.000),\n",
      "                         shininess=100,\n",
      "                         ior=1.0,\n",
      "                         metallic=0.0,\n",
      "                         roughness=0.0,\n",
      "                         reflectivity=0.5,\n",
      "                         transparency=0.0),\n",
      " 'glossy_green': Material(name='glossy_green',\n",
      "                          material_type=<MaterialType.PHONG: 1>,\n",
      "                          base_color=Vec3(0.000, 1.000, 0.000),\n",
      "                          emission=Vec3(0.000, 0.000, 0.000),\n",
      "                          spec_color=Vec3(1.000, 1.000, 1.000),\n",
      "                          shininess=100,\n",
      "                          ior=1.0,\n",
      "                          metallic=0.0,\n",
      "                          roughness=0.0,\n",
      "                          reflectivity=0.15,\n",
      "                          transparency=0.0),\n",
      " 'glossy_red': Material(name='glossy_red',\n",
      "                        material_type=<MaterialType.PHONG: 1>,\n",
      "                        base_color=Vec3(1.000, 0.000, 0.000),\n",
      "                        emission=Vec3(0.000, 0.000, 0.000),\n",
      "                        spec_color=Vec3(1.000, 1.000, 1.000),\n",
      "                        shininess=100,\n",
      "                        ior=1.0,\n",
      "                        metallic=0.0,\n",
      "                        roughness=0.0,\n",
      "                        reflectivity=0.5,\n",
      "                        transparency=0.0),\n",
      " 'mate_blue': Material(name='mate_blue',\n",
      "                       material_type=<MaterialType.PHONG: 1>,\n",
      "                       base_color=Vec3(0.000, 0.000, 1.000),\n",
      "                       emission=Vec3(0.000, 0.000, 0.000),\n",
      "                       spec_color=Vec3(0.502, 0.502, 0.502),\n",
      "                       shininess=10,\n",
      "                       ior=1.0,\n",
      "                       metallic=0.0,\n",
      "                       roughness=0.0,\n",
      "                       reflectivity=0.0,\n",
      "                       transparency=0.0),\n",
      " 'mate_green': Material(name='mate_green',\n",
      "                        material_type=<MaterialType.PHONG: 1>,\n",
      "                        base_color=Vec3(0.000, 1.000, 0.000),\n",
      "                        emission=Vec3(0.000, 0.000, 0.000),\n",
      "                        spec_color=Vec3(0.502, 0.502, 0.502),\n",
      "                        shininess=10,\n",
      "                        ior=1.0,\n",
      "                        metallic=0.0,\n",
      "                        roughness=0.0,\n",
      "                        reflectivity=0.0,\n",
      "                        transparency=0.0),\n",
      " 'mate_white': Material(name='mate_white',\n",
      "                        material_type=<MaterialType.PHONG: 1>,\n",
      "                        base_color=Vec3(1.000, 1.000, 1.000),\n",
      "                        emission=Vec3(0.000, 0.000, 0.000),\n",
      "                        spec_color=Vec3(0.502, 0.502, 0.502),\n",
      "                        shininess=10,\n",
      "                        ior=1.0,\n",
      "                        metallic=0.0,\n",
      "                        roughness=0.0,\n",
      "                        reflectivity=0.0,\n",
      "                        transparency=0.0),\n",
      " 'mirror': Material(name='mirror',\n",
      "                    material_type=<MaterialType.PHONG: 1>,\n",
      "                    base_color=Vec3(0.502, 0.502, 0.502),\n",
      "                    emission=Vec3(0.000, 0.000, 0.000),\n",
      "                    spec_color=Vec3(1.000, 1.000, 1.000),\n",
      "                    shininess=244,\n",
      "                    ior=1.0,\n",
      "                    metallic=0.0,\n",
      "                    roughness=0.0,\n",
      "                    reflectivity=1.0,\n",
      "                    transparency=0.0),\n",
      " 'red_glass': Material(name='red_glass',\n",
      "                       material_type=<MaterialType.PHONG: 1>,\n",
      "                       base_color=Vec3(1.000, 0.000, 0.000),\n",
      "                       emission=Vec3(0.000, 0.000, 0.000),\n",
      "                       spec_color=Vec3(1.000, 1.000, 1.000),\n",
      "                       shininess=300,\n",
      "                       ior=1.5,\n",
      "                       metallic=0.0,\n",
      "                       roughness=0.0,\n",
      "                       reflectivity=0.01,\n",
      "                       transparency=0.9)}\n",
      "Saved object to pickle_data/world.pkl\n",
      "<src.geometry.world.World object at 0x108f203e0>\n"
     ]
    }
   ],
   "execution_count": 5
  },
  {
   "metadata": {},
   "cell_type": "markdown",
   "source": "### Load the world we just created",
   "id": "f1576e2d4de528c4"
  },
  {
   "metadata": {
    "ExecuteTime": {
     "end_time": "2025-10-15T17:44:33.412923Z",
     "start_time": "2025-10-15T17:44:33.409723Z"
    }
   },
   "cell_type": "code",
   "source": [
    "loaded_world = pm.load(\"world.pkl\")\n",
    "print(f\"World has {len(loaded_world.objects)} objects.\")"
   ],
   "id": "692e40ea95802279",
   "outputs": [
    {
     "name": "stdout",
     "output_type": "stream",
     "text": [
      "Loaded object from pickle_data/world.pkl\n",
      "<src.geometry.world.World object at 0x108d8e0c0>\n",
      "World has 10 objects.\n"
     ]
    }
   ],
   "execution_count": 6
  },
  {
   "metadata": {},
   "cell_type": "markdown",
   "source": "now we have a world with objects and materials so we can move on to the camera, lights, and create scene",
   "id": "5b486813505b7b5"
  }
 ],
 "metadata": {
  "kernelspec": {
   "display_name": "Python 3",
   "language": "python",
   "name": "python3"
  },
  "language_info": {
   "codemirror_mode": {
    "name": "ipython",
    "version": 2
   },
   "file_extension": ".py",
   "mimetype": "text/x-python",
   "name": "python",
   "nbconvert_exporter": "python",
   "pygments_lexer": "ipython2",
   "version": "2.7.6"
  }
 },
 "nbformat": 4,
 "nbformat_minor": 5
}
