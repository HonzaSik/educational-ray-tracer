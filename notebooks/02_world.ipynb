{
 "cells": [
  {
   "metadata": {},
   "cell_type": "code",
   "source": [
    "# from src import Color, ColorLibrary\n",
    "# from src import Material, MaterialLibrary\n",
    "from src import World\n",
    "from src import PickleManager\n",
    "from src import Sphere, Square, Plane, Triangle\n",
    "from src import Vertex, Vector\n",
    "\n",
    "\n",
    "pm = PickleManager(directory=\"./pickle_data\", verbose=True)"
   ],
   "id": "b87965ad91febf9b",
   "outputs": [],
   "execution_count": null
  },
  {
   "metadata": {},
   "cell_type": "markdown",
   "source": [
    "# World\n",
    "\n",
    "#### World works as a container for all objects in the scene with their materials.\n",
    "Contains all objects in the scene and supports ray intersection with all objects.\n",
    "\n",
    "### Create objects and add them to the world"
   ],
   "id": "64dbb22125b0f60e"
  },
  {
   "metadata": {},
   "cell_type": "code",
   "source": [
    "material = pm.load_material_library()\n",
    "\n",
    "# create some objects and add them to the world\n",
    "objects = [\n",
    "    Square(vertex=Vertex(-5, -1, -9), diagonal_vertex= Vertex(5, -1, -2), material=material.brown),\n",
    "    Square(vertex=Vertex(-5, -1, -2), diagonal_vertex= Vertex(5, -8, -2), material=material.mate_green),\n",
    "    Sphere(center=Vertex(0, 0, -5), radius=1.0, material=material.mirror),\n",
    "    Sphere(center=Vertex(2, 0, -5), radius=1.0, material=material.glossy_red),\n",
    "    Sphere(center=Vertex(0, -0.4, -3), radius=0.5, material=material.mate_blue),\n",
    "    Sphere(center=Vertex(0.05, 0.9, 0.5), radius=0.15, material=material.blue_glass),\n",
    "    Sphere(center=Vertex(-4, 2, -8), radius=2.0, material=material.glossy_blue),\n",
    "    Sphere(center=Vertex(4, 2.5, -10), radius=1.5, material=material.glass),\n",
    "    Sphere(center=Vertex(2, 3.5, -7), radius=1, material=material.glass),\n",
    "    Sphere(center=Vertex(3, 4.5, -6), radius=1, material=material.glass),\n",
    "]\n",
    "\n",
    "world = World()\n",
    "for obj in objects:\n",
    "    world.add(obj)\n",
    "\n",
    "pm.save_world(world)"
   ],
   "id": "b3ad65c7b33f2f96",
   "outputs": [],
   "execution_count": null
  },
  {
   "metadata": {},
   "cell_type": "markdown",
   "source": "### Load the world we just created",
   "id": "f1576e2d4de528c4"
  },
  {
   "metadata": {},
   "cell_type": "code",
   "source": [
    "loaded_world = pm.load(\"world.pkl\")\n",
    "print(f\"World has {len(loaded_world.objects)} objects.\")"
   ],
   "id": "692e40ea95802279",
   "outputs": [],
   "execution_count": null
  },
  {
   "metadata": {},
   "cell_type": "markdown",
   "source": "now we have a world with objects and materials so we can move on to the camera, lights, and create scene",
   "id": "5b486813505b7b5"
  }
 ],
 "metadata": {
  "kernelspec": {
   "display_name": "Python 3",
   "language": "python",
   "name": "python3"
  },
  "language_info": {
   "codemirror_mode": {
    "name": "ipython",
    "version": 2
   },
   "file_extension": ".py",
   "mimetype": "text/x-python",
   "name": "python",
   "nbconvert_exporter": "python",
   "pygments_lexer": "ipython2",
   "version": "2.7.6"
  }
 },
 "nbformat": 4,
 "nbformat_minor": 5
}
