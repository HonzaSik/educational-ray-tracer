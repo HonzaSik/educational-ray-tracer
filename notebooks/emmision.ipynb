{
 "cells": [
  {
   "cell_type": "code",
   "id": "initial_id",
   "metadata": {
    "collapsed": true
   },
   "source": [
    "from src import Color\n",
    "from src.material.material import create_phong_material\n",
    "from src import World\n",
    "from src import Sphere, Plane\n",
    "from src import PointLight\n",
    "from src import ipynb_display_image\n",
    "from src import Resolution\n",
    "from src import Camera\n",
    "from src import Vertex, Vector\n",
    "from src import Scene"
   ],
   "outputs": [],
   "execution_count": null
  },
  {
   "metadata": {},
   "cell_type": "markdown",
   "source": "",
   "id": "d81b2ca6e94a0276"
  },
  {
   "metadata": {},
   "cell_type": "code",
   "source": [
    "# colors\n",
    "red   = Color.custom_rgb(255, 0, 0)\n",
    "gray  = Color.custom_rgb(200, 200, 200)\n",
    "\n",
    "red_glow = Color.custom_rgb(255, 0, 0)\n",
    "red_dim  = Color.custom_rgb(80, 0, 0)\n",
    "red_mid  = Color.custom_rgb(180, 0, 0)\n",
    "red_bright = Color.custom_rgb(255, 80, 80)\n",
    "\n",
    "\n",
    "emissive_1  = create_phong_material(\"emit_0\",  base_color=red, spec_color=Color.custom_rgb(255,255,255),\n",
    "                                    shininess=32, reflectivity=0.0, transparency=0.0, ior=1.5, emission = red_dim)\n",
    "\n",
    "emissive_2  = create_phong_material(\"emit_1\",  base_color=red, spec_color=Color.custom_rgb(255,255,255),\n",
    "                                    shininess=32, reflectivity=0.0, transparency=0.0, ior=1.5, emission = red_mid)\n",
    "\n",
    "emissive_3  = create_phong_material(\"emit_3\",  base_color=red, spec_color=Color.custom_rgb(255,255,255),\n",
    "                                    shininess=32, reflectivity=0.0, transparency=0.0, ior=1.5, emission = red_glow)\n",
    "\n",
    "emissive_4 = create_phong_material(\"emit_6\",  base_color=red, spec_color=Color.custom_rgb(255,255,255),\n",
    "                                    shininess=32, reflectivity=0.0, transparency=0.0, ior=1.5, emission = red_bright)\n",
    "# ground (matte, neutral)\n",
    "matte_ground = create_phong_material(\"matte_ground\", base_color=gray,\n",
    "                                     spec_color=Color.custom_rgb(80, 80, 80),\n",
    "                                     shininess=8, reflectivity=0.0, transparency=0.0)\n",
    "\n",
    "# --- objects (left→right increases emission) ---\n",
    "sphere1 = Sphere(center=Vertex(-3.5, 0.2, -5), radius=1.0, material=emissive_1)\n",
    "sphere2 = Sphere(center=Vertex(-1.1, 0.2, -5), radius=1.0, material=emissive_2)\n",
    "sphere3 = Sphere(center=Vertex( 1.1, 0.2, -5), radius=1.0, material=emissive_3)\n",
    "sphere4 = Sphere(center=Vertex( 3.5, 0.2, -5), radius=1.0, material=emissive_4)\n",
    "plane   = Plane(point=Vertex(0, -1, 0), normal=Vector(0, 1, 0), material=matte_ground)\n",
    "\n",
    "# --- world ---\n",
    "world = World()\n",
    "for obj in (sphere1, sphere2, sphere3, sphere4, plane):\n",
    "    world.add(obj)\n",
    "\n",
    "point_light = PointLight(position=Vertex(5, 5, 0), intensity=1.0, falloff=0.001)\n",
    "lights = [point_light]\n",
    "\n",
    "# --- camera / scene ---\n",
    "camera = Camera(\n",
    "    fov=65,\n",
    "    resolution=Resolution.R360p,\n",
    "    origin=Vertex(0, 0, 0),\n",
    "    direction=Vector(0, 0, -1),\n",
    ")\n",
    "\n",
    "scene = Scene(\n",
    "    camera=camera,\n",
    "    world=world,\n",
    "    lights=lights,\n",
    "    skybox_path=None   # dark background to emphasize glow\n",
    ")\n",
    "\n",
    "scene.validate()\n",
    "scene.render_phong(\n",
    "    samples_per_pixel=4,\n",
    "    max_depth=3,\n",
    "    image_png_path=\"./images/emission_test.png\"\n",
    ")\n",
    "ipynb_display_image(\"./images/emission_test.png\")\n"
   ],
   "id": "611c2edddf82a83c",
   "outputs": [],
   "execution_count": null
  }
 ],
 "metadata": {
  "kernelspec": {
   "display_name": "Python 3",
   "language": "python",
   "name": "python3"
  },
  "language_info": {
   "codemirror_mode": {
    "name": "ipython",
    "version": 2
   },
   "file_extension": ".py",
   "mimetype": "text/x-python",
   "name": "python",
   "nbconvert_exporter": "python",
   "pygments_lexer": "ipython2",
   "version": "2.7.6"
  }
 },
 "nbformat": 4,
 "nbformat_minor": 5
}
