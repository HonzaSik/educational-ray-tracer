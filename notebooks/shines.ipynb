{
 "cells": [
  {
   "cell_type": "code",
   "id": "initial_id",
   "metadata": {
    "collapsed": true
   },
   "source": [
    "from src import Color\n",
    "from src.material.material import create_phong_material\n",
    "from src import World\n",
    "from src import Sphere, Plane\n",
    "from src import PointLight\n",
    "from src import ipynb_display_image\n",
    "from src import Resolution\n",
    "from src import Camera\n",
    "from src import Vertex, Vector\n",
    "from src import Scene"
   ],
   "outputs": [],
   "execution_count": null
  },
  {
   "metadata": {},
   "cell_type": "markdown",
   "source": "# 4 spheres in a row with different shines coefficients",
   "id": "bd8ffea94dcb4635"
  },
  {
   "metadata": {},
   "cell_type": "code",
   "source": [
    "# colors\n",
    "red = Color.custom_rgb(255, 0, 0)\n",
    "gray = Color.custom_rgb(200, 200, 200)\n",
    "\n",
    "# materials\n",
    "\n",
    "shinny_less   = create_phong_material(\"shinny_less\",   base_color=red, spec_color=Color.custom_rgb(255,255,255), shininess=8,   reflectivity=0.0)\n",
    "shinny_medium = create_phong_material(\"shinny_medium\", base_color=red, spec_color=Color.custom_rgb(255,255,255), shininess=32,  reflectivity=0.0)\n",
    "shinny_more   = create_phong_material(\"shinny_more\",   base_color=red, spec_color=Color.custom_rgb(255,255,255), shininess=64,  reflectivity=0.0)\n",
    "shinny_most   = create_phong_material(\"shinny_most\",   base_color=red, spec_color=Color.custom_rgb(255,255,255), shininess=128, reflectivity=0.0)\n",
    "matte_ground = create_phong_material(name=\"matte_ground\", base_color=gray, spec_color=Color.custom_rgb(80, 80, 80), shininess=8, reflectivity=0.0)\n",
    "\n",
    "# objects\n",
    "sphere1 = Sphere(center=Vertex(-3.5, 0.2, -5), radius=1.0, material=shinny_less)\n",
    "sphere2 = Sphere(center=Vertex(-1.1, 0.2, -5), radius=1.0, material=shinny_medium)\n",
    "sphere3 = Sphere(center=Vertex(1.1, 0.2, -5), radius=1.0, material=shinny_more)\n",
    "sphere4 = Sphere(center=Vertex(3.5, 0.2, -5), radius=1.0, material=shinny_most)\n",
    "plane = Plane(point=Vertex(0, -1, 0), normal=Vector(0, 1, 0), material=matte_ground)\n",
    "\n",
    "# world\n",
    "world = World()\n",
    "world.add(sphere1)\n",
    "world.add(sphere2)\n",
    "world.add(sphere3)\n",
    "world.add(sphere4)\n",
    "world.add(plane)\n",
    "\n",
    "# lights\n",
    "point_light = PointLight(position=Vertex(5, 5, 0), intensity=2000.0, falloff=0.001)\n",
    "\n",
    "# scene setup\n",
    "camera = Camera(\n",
    "    fov = 65,\n",
    "    resolution = Resolution.R480p,\n",
    "    origin = Vertex(0, 0, 0),\n",
    "    direction = Vector(0, 0, -1),\n",
    ")\n",
    "\n",
    "scene = Scene(\n",
    "    camera = camera,\n",
    "    world = world,\n",
    "    lights = [point_light],\n",
    "    skybox_path = None\n",
    ")\n",
    "\n",
    "scene.validate()"
   ],
   "id": "694e6123c8bd0dd9",
   "outputs": [],
   "execution_count": null
  },
  {
   "metadata": {},
   "cell_type": "code",
   "source": [
    "scene.render_multithreaded(\n",
    "    samples_per_pixel=3,\n",
    "    max_depth=3,\n",
    "    image_png_path=\"./images/shines_test.png\"\n",
    ")\n",
    "ipynb_display_image(\"./images/shines_test.png\")"
   ],
   "id": "b082e5346fa6373f",
   "outputs": [],
   "execution_count": null
  }
 ],
 "metadata": {
  "kernelspec": {
   "display_name": "Python 3",
   "language": "python",
   "name": "python3"
  },
  "language_info": {
   "codemirror_mode": {
    "name": "ipython",
    "version": 2
   },
   "file_extension": ".py",
   "mimetype": "text/x-python",
   "name": "python",
   "nbconvert_exporter": "python",
   "pygments_lexer": "ipython2",
   "version": "2.7.6"
  }
 },
 "nbformat": 4,
 "nbformat_minor": 5
}
