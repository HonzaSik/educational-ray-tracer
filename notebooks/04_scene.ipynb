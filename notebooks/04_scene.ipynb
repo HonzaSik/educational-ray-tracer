{
 "cells": [
  {
   "cell_type": "code",
   "id": "initial_id",
   "metadata": {
    "collapsed": true
   },
   "source": [
    "from src import *\n",
    "from src import PickleManager\n",
    "from src import Resolution\n",
    "pm = PickleManager(directory=\"./pickle_data\", verbose=True)"
   ],
   "outputs": [],
   "execution_count": null
  },
  {
   "metadata": {},
   "cell_type": "markdown",
   "source": [
    "# Camera and scene setup\n",
    "\n",
    "we can choose resolution of the camera from the predefined resolutions in the Resolution enum or make a custom one"
   ],
   "id": "7268f304aec5b973"
  },
  {
   "metadata": {},
   "cell_type": "code",
   "source": [
    "resolution = Resolution.R360p\n",
    "#resolution = Resolution.custom(800, 600)\n",
    "\n",
    "camera = Camera(\n",
    "    fov=60,\n",
    "    resolution=resolution,\n",
    "    origin=Vertex(0, 0, 0),\n",
    "    direction=Vector(0, 0, -1),\n",
    "    up_hint=Vector(0, 1, 0)\n",
    ")\n",
    "\n",
    "print(f\"Camera: {camera}\")"
   ],
   "id": "446c4bae15de6c49",
   "outputs": [],
   "execution_count": null
  }
 ],
 "metadata": {
  "kernelspec": {
   "display_name": "Python 3",
   "language": "python",
   "name": "python3"
  },
  "language_info": {
   "codemirror_mode": {
    "name": "ipython",
    "version": 2
   },
   "file_extension": ".py",
   "mimetype": "text/x-python",
   "name": "python",
   "nbconvert_exporter": "python",
   "pygments_lexer": "ipython2",
   "version": "2.7.6"
  }
 },
 "nbformat": 4,
 "nbformat_minor": 5
}
