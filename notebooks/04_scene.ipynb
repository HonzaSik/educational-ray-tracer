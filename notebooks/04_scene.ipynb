{
 "cells": [
  {
   "cell_type": "code",
   "id": "initial_id",
   "metadata": {
    "collapsed": true
   },
   "source": [
    "from src import PickleManager\n",
    "from src import Resolution\n",
    "from src import Camera\n",
    "from src import Vertex, Vector\n",
    "from src import Scene\n",
    "\n",
    "pm = PickleManager(directory=\"./pickle_data\", verbose=True)"
   ],
   "outputs": [],
   "execution_count": null
  },
  {
   "metadata": {},
   "cell_type": "markdown",
   "source": [
    "# Camera and scene setup\n",
    "\n",
    "we can choose resolution of the camera from the predefined resolutions in the Resolution enum or make a custom one"
   ],
   "id": "7268f304aec5b973"
  },
  {
   "metadata": {},
   "cell_type": "code",
   "source": [
    "resolution = Resolution.R360p\n",
    "#resolution = Resolution.custom(2560, 512)\n",
    "\n",
    "camera = Camera(\n",
    "    fov = 60,\n",
    "    resolution = resolution,\n",
    "    origin = Vertex(0, 0, 0),\n",
    "    direction = Vector(0, 0, -1),\n",
    "    up_hint = Vector(0, 1, 0)\n",
    ")\n",
    "\n",
    "print(f\"Camera: {camera}\")"
   ],
   "id": "446c4bae15de6c49",
   "outputs": [],
   "execution_count": null
  },
  {
   "metadata": {},
   "cell_type": "markdown",
   "source": "## setup scene with world and lights",
   "id": "8e9f3b908fb195e"
  },
  {
   "metadata": {},
   "cell_type": "code",
   "source": [
    "world = pm.load(\"world.pkl\")\n",
    "light_lib = pm.load_light_library()\n",
    "\n",
    "ambient_light = light_lib.get_point_lights()\n",
    "point_light = light_lib.point\n",
    "\n",
    "sphere_scene = Scene(\n",
    "    camera = camera,\n",
    "    world = world,\n",
    "    lights = [ambient_light, point_light],\n",
    "    skybox_path = \"./skybox/shanghai_4k.hdr\"\n",
    ")\n",
    "\n",
    "#todo how to handle light lists? should scene have a light library and add light types?\n",
    "pm.save_scene(sphere_scene, scene_name=\"spheres\")"
   ],
   "id": "7c0720168f98a6f8",
   "outputs": [],
   "execution_count": null
  },
  {
   "metadata": {},
   "cell_type": "markdown",
   "source": "### Render a preview with no antialiasing, no recursion and no skybox at 144p resolution for speed just to see all objects in the scene",
   "id": "970a6264148aa9a4"
  },
  {
   "metadata": {},
   "cell_type": "code",
   "source": [
    "sphere_scene.validate()\n",
    "sphere_scene.render_preview()\n",
    "\n",
    "pm.save_scene(sphere_scene, scene_name=\"spheres\")"
   ],
   "id": "3896874382ae105d",
   "outputs": [],
   "execution_count": null
  },
  {
   "metadata": {},
   "cell_type": "markdown",
   "source": "### Move camera, change FOV and render another preview",
   "id": "648e00669614d0a0"
  },
  {
   "metadata": {},
   "cell_type": "code",
   "source": [
    "sphere_scene.move_camera_to(Vertex(0, 1, 3))\n",
    "sphere_scene.look_at(Vertex(0, 0.7, -3))\n",
    "sphere_scene.set_camera_fov(60)\n",
    "\n",
    "sphere_scene.render_preview()"
   ],
   "id": "b0e6bbd8833ec833",
   "outputs": [],
   "execution_count": null
  },
  {
   "metadata": {},
   "cell_type": "markdown",
   "source": "### Move light and render another preview to see effect of light position change",
   "id": "ccce4635f7ba8ca0"
  },
  {
   "metadata": {},
   "cell_type": "code",
   "source": [
    "sphere_scene.translate_light(point_light, Vector(1, 1, -3))\n",
    "\n",
    "sphere_scene.render_preview()"
   ],
   "id": "ec5e2f3c3b2ea361",
   "outputs": [],
   "execution_count": null
  },
  {
   "metadata": {},
   "cell_type": "markdown",
   "source": [
    "# Save the scene for later use\n",
    "\n",
    "when we are done setting up the scene we can save it for later use"
   ],
   "id": "8557e6c8f1911164"
  },
  {
   "metadata": {},
   "cell_type": "code",
   "source": "pm.save_scene(sphere_scene, scene_name=\"spheres\")",
   "id": "299063b7e54fd50e",
   "outputs": [],
   "execution_count": null
  }
 ],
 "metadata": {
  "kernelspec": {
   "display_name": "Python 3",
   "language": "python",
   "name": "python3"
  },
  "language_info": {
   "codemirror_mode": {
    "name": "ipython",
    "version": 2
   },
   "file_extension": ".py",
   "mimetype": "text/x-python",
   "name": "python",
   "nbconvert_exporter": "python",
   "pygments_lexer": "ipython2",
   "version": "2.7.6"
  }
 },
 "nbformat": 4,
 "nbformat_minor": 5
}
