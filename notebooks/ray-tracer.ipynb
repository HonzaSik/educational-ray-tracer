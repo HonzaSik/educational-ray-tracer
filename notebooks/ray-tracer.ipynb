{
 "cells": [
  {
   "metadata": {},
   "cell_type": "markdown",
   "source": [
    "# Educational Raytracer\n",
    "\n",
    "Simple educational raytracer mainly focused on code readability and understanding the basic principles of raytracing.\n",
    "We are going to go through the each step and by the end we will have a simple raytracer where you can create your own world and render it.\n",
    "\n",
    "# Table of Content\n",
    "1. import libraries\n",
    "2. define basic classes for mathematical operations using Vec3 class\n",
    "3. Material and Light class\n",
    "4. Ray class\n",
    "5. Hit record class\n",
    "6. Objects - Sphere, Plane, Mesh\n",
    "7. World\n",
    "8. Shading\n",
    "9. Camera\n",
    "10. helper functions for ray color and reflection\n",
    "11. Render function\n",
    "12. Create world and set render settings\n",
    "13. Render preview\n",
    "14. Render final image and save to file\n",
    "15. Display final image\n",
    "16. More theory\n",
    "17. Next steps TODOs"
   ],
   "id": "9b5268bab6704dfa"
  },
  {
   "metadata": {},
   "cell_type": "markdown",
   "source": "## 1. import libraries",
   "id": "1167708f527a82d"
  },
  {
   "metadata": {
    "ExecuteTime": {
     "end_time": "2025-10-06T14:09:35.618922Z",
     "start_time": "2025-10-06T14:09:35.516135Z"
    }
   },
   "cell_type": "code",
   "source": [
    "# import standard libraries and others\n",
    "from __future__ import annotations\n",
    "from IPython.display import Image, display\n",
    "from typing import Tuple\n",
    "from random import random\n",
    "from time import time\n",
    "from tqdm.notebook import tqdm\n",
    "from math import sqrt, tan, radians, pi\n",
    "from dataclasses import dataclass, field\n",
    "\n",
    "# image handling\n",
    "from src import convert_ppm_to_png, write_ppm, Resolution\n",
    "# vec3 math\n",
    "from src import Vertex, Vector\n",
    "# lights\n",
    "from src import Light, PointLight, AmbientLight\n",
    "# saving progress\n",
    "from src import PickleManager\n",
    "# materials\n",
    "from src import Material, Color\n",
    "\n",
    "# set pickle manager for saving/loading objects\n",
    "pm = PickleManager(directory=\"./pickle_data\", verbose=True)"
   ],
   "id": "fbc121e30a2defb3",
   "outputs": [],
   "execution_count": 1
  },
  {
   "metadata": {},
   "cell_type": "markdown",
   "source": [
    "# 3. Material and Light class\n",
    "## When creating scenes we want to separate items to 3 main categories:\n",
    "- Objects: represent scene geometry - Sphere, Plane, Mesh for now\n",
    "- Materials: represent surface properties - albedo, reflectivity\n",
    "- Lights: represent light sources - position, color, intensity"
   ],
   "id": "38cb6ce3db4a61c1"
  },
  {
   "metadata": {},
   "cell_type": "markdown",
   "source": [
    "## Material class and material initialization\n",
    "- Material class to define surface properties like albedo (base color) and reflectivity (mirror-like) of the material\n"
   ],
   "id": "4decd4a9fd00eae6"
  },
  {
   "metadata": {
    "ExecuteTime": {
     "end_time": "2025-10-06T14:09:35.625227Z",
     "start_time": "2025-10-06T14:09:35.623025Z"
    }
   },
   "cell_type": "code",
   "source": "# src/material/material.py",
   "id": "ff004f7f392b0e6c",
   "outputs": [],
   "execution_count": 2
  },
  {
   "metadata": {},
   "cell_type": "markdown",
   "source": [
    "## Light class and light sources initialization\n",
    "- Light class to define point light source with position and intensity for now"
   ],
   "id": "bd31d9cafc6264b6"
  },
  {
   "metadata": {
    "ExecuteTime": {
     "end_time": "2025-10-06T14:09:35.719597Z",
     "start_time": "2025-10-06T14:09:35.714427Z"
    }
   },
   "cell_type": "code",
   "source": [
    "\n",
    "# Creation of a point light source\n",
    "light_source = PointLight(position=Vertex(5, 5, 0), intensity=0.8, falloff=1.2)\n",
    "ambient_light = AmbientLight(position=Vertex(0,0,0), intensity=0.0)\n",
    "pm.save_lights([light_source, ambient_light])"
   ],
   "id": "35a0cd9690eb6693",
   "outputs": [
    {
     "name": "stdout",
     "output_type": "stream",
     "text": [
      "Saved object to pickle_data/lights.pkl\n",
      "[PointLight(position=Vertex(x=5, y=5, z=0), intensity=0.8, falloff=1.2),\n",
      " AmbientLight(position=Vertex(x=0, y=0, z=0), intensity=0.0, falloff=1.0)]\n"
     ]
    },
    {
     "data": {
      "text/plain": [
       "PosixPath('pickle_data/lights.pkl')"
      ]
     },
     "execution_count": 3,
     "metadata": {},
     "output_type": "execute_result"
    }
   ],
   "execution_count": 3
  },
  {
   "metadata": {
    "ExecuteTime": {
     "end_time": "2025-10-06T14:09:35.726589Z",
     "start_time": "2025-10-06T14:09:35.724222Z"
    }
   },
   "cell_type": "code",
   "source": "list_of_lights = pm.load_lights()",
   "id": "3b3a12db46b02c0a",
   "outputs": [
    {
     "name": "stdout",
     "output_type": "stream",
     "text": [
      "Loaded object from pickle_data/lights.pkl\n",
      "[PointLight(position=Vertex(x=5, y=5, z=0), intensity=0.8, falloff=1.2),\n",
      " AmbientLight(position=Vertex(x=0, y=0, z=0), intensity=0.0, falloff=1.0)]\n"
     ]
    }
   ],
   "execution_count": 4
  },
  {
   "metadata": {},
   "cell_type": "markdown",
   "source": [
    "# 4. Ray class\n",
    "Ray class representing a ray in 3D space with an origin and direction.\n",
    "$$\n",
    "ray(t) = origin + t * direction\n",
    "$$\n",
    "we need to keep this in mind when calculating intersections with objects in the scene.\n",
    "\n",
    "- origin: starting point of the ray\n",
    "- direction: normalized direction vector of the ray"
   ],
   "id": "7d6bddece01e2d55"
  },
  {
   "metadata": {
    "ExecuteTime": {
     "end_time": "2025-10-06T14:09:35.751325Z",
     "start_time": "2025-10-06T14:09:35.748471Z"
    }
   },
   "cell_type": "code",
   "source": [
    "from src import Vec3\n",
    "\n",
    "\n",
    "@dataclass\n",
    "class Ray:\n",
    "    \"\"\"\n",
    "    Ray in 3D space defined by an origin and a direction.\n",
    "    \"\"\"\n",
    "\n",
    "    origin: Vertex    # starting point of the ray\n",
    "    direction: Vector | Vec3 # normalized direction vector\n",
    "\n",
    "    # Point on the ray at distance t from the origin\n",
    "    def point_at(self, dist: float) -> Vertex:\n",
    "        \"\"\"\n",
    "        Calculate point along the ray at distance dist from the origin.\n",
    "        :param dist: distance from the ray origin\n",
    "        :return: point at that distance\n",
    "        \"\"\"\n",
    "        return self.origin + self.direction * dist"
   ],
   "id": "a1bcd2fd55993a50",
   "outputs": [],
   "execution_count": 5
  },
  {
   "metadata": {},
   "cell_type": "markdown",
   "source": [
    "# 4. Hit record class\n",
    "HitRecord class to store intersection information.\n",
    "- dist: distance from ray origin to intersection point\n",
    "- p: intersection point\n",
    "- n: normal at intersection point\n",
    "- color: color at intersection point normalized between 0 and 1 then transformed to range 0-255 to represent RGB values"
   ],
   "id": "d6a287bad27ec065"
  },
  {
   "metadata": {
    "ExecuteTime": {
     "end_time": "2025-10-06T14:09:35.766495Z",
     "start_time": "2025-10-06T14:09:35.763628Z"
    }
   },
   "cell_type": "code",
   "source": [
    "@dataclass\n",
    "class HitPoint:\n",
    "    \"\"\"\n",
    "    Record of a ray-object intersection.\n",
    "    Stores intersection distance, point, normal, and color at thepoint.\n",
    "    \"\"\"\n",
    "    dist: float # distance from ray origin to intersection\n",
    "    point: Vertex # intersection point\n",
    "    normal: Vector # normal at intersection point\n",
    "    ray_dir: Vector # direction of the incoming ray\n",
    "    material: Material # material properties"
   ],
   "id": "9db4e21d45d5deb8",
   "outputs": [],
   "execution_count": 6
  },
  {
   "metadata": {},
   "cell_type": "markdown",
   "source": [
    "# 5. Define objects - Sphere, Plane, Mesh\n",
    "\n",
    "# Sphere\n",
    "Sphere class representing a sphere in 3D space.\n",
    "- center and radius define the sphere's geometry as\n",
    "$$\n",
    "(p - C) \\cdot (p - C) = r^2\n",
    "$$\n",
    "where C is the center, r is the radius, and p is any point on the sphere's surface.\n",
    "\n",
    "- color defines the sphere's color\n",
    "- intersect method calculates ray intersection with the sphere and return Hit if intersection occurs\n",
    "- t_min and t_max define the valid range for intersection distances\n",
    "\n",
    "## Intersection calculation\n",
    "\n",
    "By substituting the ray equation \\( \\text{ray}(t) = O + tD \\) into the sphere equation, we get:\n",
    "\n",
    "$$\n",
    "\\|(O + t d) - C\\|^2 = R^2\n",
    "$$\n",
    "\n",
    "Now we define oc = o - C (vector from ray origin to sphere center) and rewrite the equation as:\n",
    "\n",
    "$$\n",
    "\\|oc + t d\\|^2 = R^2\n",
    "$$\n",
    "\n",
    "Expanding the left into a dot product gives:\n",
    "\n",
    "$$\n",
    "(oc + t d) \\cdot (oc + t d) = R^2\n",
    "$$\n",
    "\n",
    "$$\n",
    "oc \\cdot oc + 2t(oc \\cdot d) + t^2 (d \\cdot d) = R^2\n",
    "$$\n",
    "\n",
    "Now we can rearrange this into a standard quadratic form:\n",
    "\n",
    "$$\n",
    "(d \\cdot d)t^2 + 2(oc \\cdot d)t + (oc \\cdot oc - R^2) = 0\n",
    "$$\n",
    "\n",
    "where:\n",
    "\n",
    "- a = d·d\n",
    "- b = 2(oc·d)\n",
    "- c = oc·oc - R^2\n",
    "\n",
    "\n",
    "By calculating the discriminant we are able to determine if the ray intersects the sphere or not:\n",
    "$$\n",
    "discriminant=b2−4ac\n",
    "$$\n",
    "If the discriminant is negative, there is no intersection. If it's zero or positive, we can find the intersection points using the quadratic formula:\n",
    "$$\n",
    "t=−b±√discriminant/2a\n",
    "$$\n",
    "The nearest valid intersection point is chosen based on the range [t_min, t_max].\n",
    "\n"
   ],
   "id": "173967a2a45c3689"
  },
  {
   "metadata": {
    "ExecuteTime": {
     "end_time": "2025-10-06T14:09:35.776327Z",
     "start_time": "2025-10-06T14:09:35.770496Z"
    }
   },
   "cell_type": "code",
   "source": [
    "@dataclass\n",
    "class Sphere:\n",
    "    \"\"\"\n",
    "    Sphere in 3D space defined by center, radius, and color.\n",
    "    \"\"\"\n",
    "    center: Vertex # center of the sphere\n",
    "    radius: float # radius of the sphere\n",
    "    material: Material # material properties\n",
    "    # default reflectivity is 0 (matte)\n",
    "\n",
    "    # Ray-sphere intersection\n",
    "    def intersect(self, ray: Ray, t_min=0.001, t_max=float('inf')) -> HitPoint | None:\n",
    "        \"\"\"\n",
    "        Calculate intersection of ray with sphere.\n",
    "        :param ray: Ray to test intersection with\n",
    "        :param t_min: minimum valid distance for intersection\n",
    "        :param t_max: maximum valid distance for intersection\n",
    "        :return: Hit record if intersection occurs, else None\n",
    "        \"\"\"\n",
    "        oc = ray.origin - self.center   # Vector from oray origin to sphere center\n",
    "\n",
    "        # Quadratic coefficients\n",
    "        a = ray.direction.dot(ray.direction) # Usually = 1 if ray.direction is normalized\n",
    "        b = 2.0 * oc.dot(ray.direction) # Projection of oc onto the ray\n",
    "        c = oc.dot(oc) - self.radius * self.radius # Distance^2 from ray origin to sphere surface\n",
    "\n",
    "        discriminant = b * b - 4 * a * c\n",
    "        if discriminant < 0:\n",
    "            return None # no intersection - ray misses the sphere\n",
    "\n",
    "        sqrt_disc = sqrt(discriminant)\n",
    "\n",
    "        # Find the nearest root that lies in the acceptable range by calculating both roots using quadratic formula\n",
    "        root = (-b - sqrt_disc) / (2.0 * a)\n",
    "        if root < t_min or root > t_max:\n",
    "            root = (-b + sqrt_disc) / (2.0 * a)\n",
    "            if root < t_min or root > t_max: # Point is out of range so no valid intersection\n",
    "                return None\n",
    "\n",
    "        # Calculate intersection in 3d space\n",
    "        hit_point = ray.point_at(root)\n",
    "\n",
    "        # Calculate normal at the intersection point for lighting calculations\n",
    "        normal = (hit_point - self.center) / self.radius\n",
    "        if ray.direction.dot(normal) > 0.0:\n",
    "            normal = -normal\n",
    "\n",
    "        return HitPoint(dist=root, point=hit_point, normal=normal, material=self.material, ray_dir=ray.direction)\n",
    "\n",
    "\n",
    "gray  = Color.custom_rgb(200, 200, 200)\n",
    "red   = Color.custom_rgb(255, 0, 0)\n",
    "white = Color.custom_rgb(255, 255, 255)\n",
    "gold  = Color.custom_rgb(255, 215, 0)\n",
    "silver= Color.custom_rgb(192, 192, 192)\n",
    "\n",
    "mate_gray    = Material.make(base_color=gray,   reflectivity=0.0)\n",
    "mate_red     = Material.make(base_color=red,    reflectivity=0.0)\n",
    "glass        = Material.make(base_color=white,  reflectivity=0.1, transparency=0.9, ior=1.5)\n",
    "metal_gold   = Material.make(base_color=gold,   reflectivity=0.9, metallic=1.0, shininess=100)\n",
    "metal_silver = Material.make(base_color=silver, reflectivity=0.9, metallic=1.0, shininess=100)\n",
    "\n",
    "#todo separeate to smaller functions"
   ],
   "id": "c1ecdb279b02ff39",
   "outputs": [],
   "execution_count": 7
  },
  {
   "metadata": {},
   "cell_type": "markdown",
   "source": [
    "# Plane\n",
    "Planes are used for defining infinite surfaces like ground or roof. They are defined by a point on the plane and a normal vector.\n",
    "Simple to calculate intersection with ray using the plane equation:\n",
    "\n",
    "- plane_point: a point on the plane\n",
    "- normal: normal vector of the plane (should be normalized)\n",
    "- material: material properties\n",
    "- intersect method to calculate ray-plane intersection\n",
    "- t_min and t_max define the valid range for intersection distances\n",
    "\n",
    "Now using the plane equation we can calculate intersection with ray. The plane equation is defined as:\n",
    "\n",
    "$$\n",
    "(p - P) \\cdot N = 0\n",
    "$$\n",
    "where P is a point on the plane, N is the normal vector, and p is any point on the plane.\n",
    "\n",
    "We can calsulate intersection by substituting the ray equation into the plane equation and solving for t:\n",
    "$$\n",
    "((O + t d) - P) \\cdot N = 0\n",
    "$$\n",
    "\n",
    "Rearranging gives:\n",
    "$$\n",
    "t = \\frac{(P - O) \\cdot N}{d \\cdot N}\n",
    "$$"
   ],
   "id": "1b421d66cec18d62"
  },
  {
   "metadata": {
    "ExecuteTime": {
     "end_time": "2025-10-06T14:09:35.787008Z",
     "start_time": "2025-10-06T14:09:35.782437Z"
    }
   },
   "cell_type": "code",
   "source": [
    "@dataclass\n",
    "class Plane:\n",
    "    \"\"\"\n",
    "    Plane in 3D space defined by a point, normal, and color.\n",
    "    \"\"\"\n",
    "    plane_point: Vertex # a point on the plane\n",
    "    normal: Vector      # normal vector of the plane (should be normalized)\n",
    "    material: Material # material properties\n",
    "\n",
    "    def __post_init__(self):\n",
    "        self.normal = self.normal.normalize()\n",
    "\n",
    "    def intersect(self, ray: Ray, t_min=0.001, t_max=float('inf')) -> HitPoint | None:\n",
    "        \"\"\"\n",
    "        Calculate intersection of ray with plane.\n",
    "        :param ray: Ray to test intersection with\n",
    "        :param t_min: minimum valid distance for intersection\n",
    "        :param t_max: maximum valid distance for intersection\n",
    "        :return: Hit record if intersection occurs, else None\n",
    "        \"\"\"\n",
    "        denom = ray.direction.dot(self.normal)\n",
    "        if abs(denom) < 1e-6:\n",
    "            return None # Ray is parallel to the plane\n",
    "\n",
    "        t = (self.plane_point - ray.origin).dot(self.normal) / denom\n",
    "        if t < t_min or t > t_max:\n",
    "            return None # Intersection is out of bounds\n",
    "\n",
    "        hit_point = ray.point_at(t)\n",
    "        normal = self.normal\n",
    "        if ray.direction.dot(normal) > 0.0:\n",
    "            normal = -normal\n",
    "\n",
    "        return HitPoint(dist=t, point=hit_point, normal=normal, material=self.material, ray_dir=ray.direction)"
   ],
   "id": "19ba4c499a338a4e",
   "outputs": [],
   "execution_count": 8
  },
  {
   "metadata": {},
   "cell_type": "markdown",
   "source": [
    "# Triangle and Mesh\n",
    "Triangles are the basic building blocks of 3D models. A mesh is a collection of triangles that form a 3D object so we define both classes here for later use.\n",
    "\n",
    "## triangle\n",
    "- 3 points defining the triangle vertices\n",
    "- color of the triangle\n",
    "- intersect method to calculate ray-triangle intersection using Möller–Trumbore algorithm"
   ],
   "id": "ba25b8263d7f01f2"
  },
  {
   "metadata": {
    "ExecuteTime": {
     "end_time": "2025-10-06T14:09:35.797817Z",
     "start_time": "2025-10-06T14:09:35.795085Z"
    }
   },
   "cell_type": "code",
   "source": [
    "@dataclass\n",
    "class Triangle:\n",
    "    \"\"\"\n",
    "    Triangle in 3D space defined by 3 points and color.\n",
    "    \"\"\"\n",
    "    #todo implement intersect method using Möller–Trumbore algorithm\n",
    "    pass"
   ],
   "id": "7336e7a04d59c8c1",
   "outputs": [],
   "execution_count": 9
  },
  {
   "metadata": {},
   "cell_type": "markdown",
   "source": [
    "\n",
    "## mesh\n",
    "- list of triangles forming the mesh\n",
    "- color of the mesh\n",
    "- import method to load mesh from file like .obj or .stl"
   ],
   "id": "c4a1bada518c21ff"
  },
  {
   "metadata": {
    "ExecuteTime": {
     "end_time": "2025-10-06T14:09:35.807740Z",
     "start_time": "2025-10-06T14:09:35.805076Z"
    }
   },
   "cell_type": "code",
   "source": [
    "@dataclass\n",
    "class Mesh:\n",
    "    \"\"\"\n",
    "    Mesh in 3D space defined by list of triangles and color.\n",
    "    \"\"\"\n",
    "    #todo better than last time, find some optimalization for intersect method because its soo slow\n",
    "    pass"
   ],
   "id": "506fc5d19afa97e",
   "outputs": [],
   "execution_count": 10
  },
  {
   "metadata": {},
   "cell_type": "markdown",
   "source": "",
   "id": "5dcb5443c42bc467"
  },
  {
   "metadata": {},
   "cell_type": "markdown",
   "source": [
    "# 7. World\n",
    "World is main geometry container that holds all objects in the scene and provides ray intersection functionality.\n",
    "- suports Sphere, Plane, Mesh objects\n",
    "-method to find closest intersection of ray with any object in the world\n",
    "- if no intersection, return None"
   ],
   "id": "87b0842f83f4454d"
  },
  {
   "metadata": {
    "ExecuteTime": {
     "end_time": "2025-10-06T14:09:35.818325Z",
     "start_time": "2025-10-06T14:09:35.815132Z"
    }
   },
   "cell_type": "code",
   "source": [
    "class World:\n",
    "    \"\"\"\n",
    "    Container for all objects in the scene. Supports ray intersection with all objects.\n",
    "    objects: list of Sphere, Plane, Mesh\n",
    "    \"\"\"\n",
    "    def __init__(self, objects: list[Sphere | Plane | Mesh]):\n",
    "        self.objects = objects\n",
    "\n",
    "    def hit(self, ray: Ray, t_min=0.001, t_max=float('inf')) -> HitPoint | None:\n",
    "        \"\"\"\n",
    "        Find the closest intersection of ray with any object in the world.\n",
    "        \"\"\"\n",
    "        closest_distance = t_max\n",
    "        closest_hit = None\n",
    "\n",
    "        for obj in self.objects:\n",
    "            hit = obj.intersect(ray, t_min, closest_distance)\n",
    "            if hit is not None and hit.dist < closest_distance:\n",
    "                closest_distance = hit.dist\n",
    "                closest_hit = hit\n",
    "\n",
    "        return closest_hit"
   ],
   "id": "78d27c11a00acdcf",
   "outputs": [],
   "execution_count": 11
  },
  {
   "metadata": {},
   "cell_type": "markdown",
   "source": [
    "# 8. Background\n",
    "We have geometrical objects in the world but what if ray does not hit anything? We need to define a background color for such rays. Linear gradient for now.\n",
    "\n",
    "## Linear background gradient\n",
    "- map vertical direction from [-1, 1] to [0, 1] and blend between two colors based on that factor using linear interpolation"
   ],
   "id": "a68814bc697a0d8a"
  },
  {
   "metadata": {
    "ExecuteTime": {
     "end_time": "2025-10-06T14:09:35.829686Z",
     "start_time": "2025-10-06T14:09:35.826196Z"
    }
   },
   "cell_type": "code",
   "source": [
    "SKYBOX_HDR = None # path to hdr image for skybox background\n",
    "\n",
    "def background(direction: Vector) -> Color:\n",
    "    if SKYBOX_HDR is not None:\n",
    "        return Color.from_hdr(SKYBOX_HDR, direction)\n",
    "    # simple gradient background\n",
    "    t = 0.5 * (direction.y + 1.0)\n",
    "    return interpolate_color(Color.custom_rgb(135, 206, 235), Color.custom_rgb(255, 255, 255), t)\n",
    "\n"
   ],
   "id": "327af1fb7b083f0c",
   "outputs": [],
   "execution_count": 12
  },
  {
   "metadata": {},
   "cell_type": "markdown",
   "source": [
    "# 9 Camera\n",
    "\n",
    "We use a **pinhole camera model** that creates rays through each pixel on the image plane. The camera is defined by its field of view (fov) and resolution. The camera is positioned at the origin (0,0,0) and looks down the negative Z-axis."
   ],
   "id": "b1d1fcde01e179e0"
  },
  {
   "metadata": {
    "ExecuteTime": {
     "end_time": "2025-10-06T14:09:35.842765Z",
     "start_time": "2025-10-06T14:09:35.837251Z"
    }
   },
   "cell_type": "code",
   "source": [
    "@dataclass\n",
    "class Camera:\n",
    "    \"\"\"\n",
    "    Simple pinhole camera model.\n",
    "    fov: vertical field of view in degrees\n",
    "    resolution: image resolution (width, height)\n",
    "    \"\"\"\n",
    "    fov: float = 70.0\n",
    "    resolution: Resolution = Resolution.R480p\n",
    "    origin: Vertex = field(default_factory=lambda: Vertex(0, 0, 0))\n",
    "    direction: Vector = field(default_factory=lambda: Vector(0, 0, -1)) # looking down -Z\n",
    "    up_hint: Vector = field(default_factory=lambda: Vector(0, 1, 0)) # up direction\n",
    "\n",
    "    def __post_init__(self):\n",
    "        \"\"\"\n",
    "        Calculate camera basis vectors and image plane dimensions.\n",
    "        :return: None\n",
    "        \"\"\"\n",
    "        # normalize forward\n",
    "        fwd = self.direction.normalize()\n",
    "        # guard against collinearity with up\n",
    "        if abs(fwd.dot(self.up_hint)) > 0.999:\n",
    "            self.up_hint = Vector(1, 0, 0) # use right vector if collinear\n",
    "\n",
    "        # build ONB (right, true_up, forward)\n",
    "        w = (-fwd).normalize()                       # camera looks along -w\n",
    "        right = self.up_hint.cross(w).normalize()\n",
    "        true_up = w.cross(right)\n",
    "\n",
    "        aspect = self.resolution.width / self.resolution.height\n",
    "        theta = radians(self.fov)\n",
    "        half_height = tan(theta * 0.5)\n",
    "        half_width  = aspect * half_height\n",
    "\n",
    "        self.fwd = fwd\n",
    "        self.right = right\n",
    "        self.up = true_up\n",
    "        self.half_width = half_width\n",
    "        self.half_height = half_height\n",
    "\n",
    "    def make_ray(self, u: float, v: float) -> Ray:\n",
    "        \"\"\"\n",
    "        u, v in [-0.5, 0.5]; (-0.5,-0.5)=bottom-left, (+0.5,+0.5)=top-right\n",
    "        Image plane is 1 unit in front of the camera.\n",
    "        \"\"\"\n",
    "        # point on image plane: origin + (-w) + x*right + y*up\n",
    "        x = u * (2.0 * self.half_width)\n",
    "        y = v * (2.0 * self.half_height)\n",
    "        img_plane_center = self.origin + self.fwd  # 1 unit ahead\n",
    "        pixel_pos = img_plane_center + self.right * x + self.up * y\n",
    "        return Ray(self.origin, (pixel_pos - self.origin).normalize())"
   ],
   "id": "7967f453c89b8426",
   "outputs": [],
   "execution_count": 13
  },
  {
   "metadata": {},
   "cell_type": "markdown",
   "source": [
    "# 10 Shading and helper functions\n",
    "Shading function to calculate color at intersection point (each pixel in the final image). Based on light sources and material properties. We have several components: ambient, diffuse, specular, reflection, refraction and Fresnel effect.\n",
    "We will use Phong reflection model for specular highlights and Lambertian model for diffuse shading. Raytracing is recursive so we need to limit the recursion depth to avoid infinite loops. We will also add shadow rays to simulate shadows from light sources.\n",
    "\n",
    "also we need some helper functions for shading calculations described below.\n",
    "\n",
    "#### Clamp\n",
    "- clamp scalar to [0, 1] from any range its important to keep color values in this range\n",
    "- clamp each RGB component to [0, 1] for Vec3 colors\n",
    "- do not allow colors to go out of range but clamping can cause los of energy so use it wisely\n",
    "\n",
    "#### clamp vectors\n",
    "- clamp each RGB component to [0, 1] for Vec3 colors\n",
    "- reflect vector v about normal n\n",
    "\n",
    "#### Reflect\n",
    "- reflect function helps us to calculate perfect mirror reflection direction\n",
    "- n needs to be normalized if not reflection can be scaled/biased\n",
    "- v is the incoming ray direction\n",
    "- decompose v into components parallel and perpendicular to n and invert the perpendicular component\n",
    "$$\n",
    "    v_{reflected} = v - 2(v \\cdot n)n\n",
    "$$\n",
    "- return reflected vector fliped around the normal n\n",
    "\n",
    "#### Refract\n",
    "- Using Snell's law to calculate refraction direction when ray passes through transparent material with index of refraction (ior)\n",
    "- v is the incoming ray direction\n",
    "- n is the normal at the intersection point\n",
    "- ior_out is the index of refraction of the medium the ray is exiting\n",
    "- ior_in is the index of refraction of the medium the ray is entering\n",
    "- we need to calculate the ratio of indices eta = ior_out / ior_in which tells us how much the ray bends when entering the new medium.\n",
    "- Using snell's law we can calculate the cosine of the angle of incidence cos_i = -n · v (dot product). And then we can calculate sin^2(theta_t) using the formula:\n",
    "$$\n",
    "    sin^2(theta_t) = eta^2 * (1 - cos_i^2)\n",
    "$$\n",
    "from this we can determine if total internal reflection occurs (when sin^2(theta_t) > 1). If it does, we return None to indicate no refraction.\n",
    "\n",
    "#### Fresnel Schlick approximation\n",
    "- Fresnel effect describes how much light is reflected vs refracted at an interface between two media.\n",
    "- Depends on the angle of incidence and the indices of refraction.\n",
    "- Schlick's approximation provides a simple way to estimate this effect.\n",
    "$$\n",
    "    F = F_0 + (1 - F_0)(1 - cos(theta))^5\n",
    "$$\n",
    "- where theta is the angle between the incoming ray and the normal, and F0 is the reflectance at normal incidence (when theta = 0).\n",
    "\n",
    "#### Linear interpolation\n",
    "- linear interpolation between two values a and b by factor t in [0, 1]\n",
    "- linear interpolation is useful for blending colors, positions, etc.\n",
    "- works as follows:\n",
    "- when t=0, returns a\n",
    "- when t=1, returns b\n",
    "- for values in between, returns a blend of a and b\n",
    "\n",
    "#### Safe normalize\n",
    "- we are using safe normalization to avoid division by zero for near-zero vectors but at the same time we want to keep the direction as is if its already very small\n",
    "\n",
    "#### Light relative position\n",
    "- compute normalized direction and distance from hit point to light source\n",
    "- used for lighting calculations and shadow rays\n",
    "\n",
    "#### Shadow trace\n",
    "- check if point is in shadow by casting a ray toward the light source\n",
    "- uses world.hit to see if ray hits any object before reaching the light source\n",
    "- if it does, the point is in shadow\n",
    "\n",
    "#### Ambient light\n",
    "- simple ambient light contribution to simulate indirect lighting\n",
    "- can be a constant color or based on material properties\n",
    "- for now we use a constant ambient light value\n",
    "\n",
    "#### Lambertian diffuse shading\n",
    "- diffuse shading based on Lambertian reflectance model\n",
    "- depends on the angle between the light direction and the surface normal\n",
    "- clamped to [0, 1] to avoid negative values\n",
    "- multiplied by the material's base color and light intensity\n",
    "- scaled by the inverse square of the distance to the light source to simulate realistic light falloff\n",
    "- also multiplied by (1 - material.metallic) to reduce diffuse contribution for metallic materials\n",
    "- this is because metals reflect more light specularly and less diffusely\n",
    "- for non-metallic materials (dielectrics), diffuse reflection is more prominent\n",
    "- this gives a more realistic appearance to metallic surfaces\n",
    "\n",
    "#### Phong specular highlights\n",
    "- specular highlights based on Phong reflection model\n",
    "- depends on the angle between the reflection direction and the view direction\n",
    "- metalic materials have colored specular highlights based on their base color\n",
    "- non-metallic materials have white specular highlights\n",
    "\n",
    "#### dielectric materials\n",
    "- handle refraction and reflection for transparent materials\n",
    "- use Fresnel effect to blend between reflection and refraction based on angle of incidence\n",
    "- trace refracted ray if refraction occurs\n",
    "- trace reflected ray for the reflection component\n",
    "- blend the two based on Fresnel reflectance\n",
    "\n",
    "# Helper functions for shading calculations"
   ],
   "id": "fb2903d2f427c179"
  },
  {
   "metadata": {
    "ExecuteTime": {
     "end_time": "2025-10-06T14:09:35.868135Z",
     "start_time": "2025-10-06T14:09:35.854601Z"
    }
   },
   "cell_type": "code",
   "source": [
    "def clamp(x: float) -> float:\n",
    "    \"\"\"\n",
    "    Clamp scalar to [0, 1].\n",
    "    0 if x < 0, 1 if x > 1, else x.\n",
    "    :param x: input scalar\n",
    "    \"\"\"\n",
    "    return 0.0 if x < 0.0 else (1.0 if x > 1.0 else x)\n",
    "\n",
    "\n",
    "def clamp_vec3(v) -> Color:\n",
    "    \"\"\"\n",
    "    Clamp each RGB component to [0, 1] for Vec3 colors.\n",
    "    :param v: input Vec3 color\n",
    "    :return: clamped Vec3 color\n",
    "    \"\"\"\n",
    "    return Color(clamp(v.x), clamp(v.y), clamp(v.z))\n",
    "\n",
    "\n",
    "def reflect(v: Vector, n: Vector) -> Vector:\n",
    "    \"\"\"\n",
    "    Reflect vector v about normal n.\n",
    "    :param v: incoming vector\n",
    "    :param n: normal vector (must be normalized)\n",
    "    :return: reflected vector\n",
    "    \"\"\"\n",
    "    return v - n * (2.0 * v.dot(n))\n",
    "\n",
    "\n",
    "def refract(v: Vector, n: Vector, ior_out: float, ior_in: float) -> Vector | None:\n",
    "    \"\"\"\n",
    "    Refract vector v through surface with normal n using Snell's law.\n",
    "    :param v: incoming vector\n",
    "    :param n: normal vector at intersection (must be normalized)\n",
    "    :param ior_out: index of refraction of the medium ray is exiting\n",
    "    :param ior_in: index of refraction of the medium ray is entering\n",
    "    :return: refracted vector or None if total internal reflection occurs\n",
    "    \"\"\"\n",
    "    v = safe_normalize(v)\n",
    "    n = safe_normalize(n)\n",
    "\n",
    "    eta = ior_out / ior_in # ratio of indices\n",
    "    cos_i = -n.dot(v) # cosine of angle of incidence\n",
    "\n",
    "    if cos_i < 0.0: # ray is inside the medium\n",
    "        n = -n\n",
    "        cos_i = -cos_i\n",
    "        eta = 1.0 / eta\n",
    "\n",
    "    sin2_t = eta * eta * max(0.0, 1.0 - cos_i * cos_i) # sin^2(theta_t)\n",
    "    if sin2_t >= 1.0:   # total internal reflection\n",
    "        return None\n",
    "\n",
    "    cos_t = sqrt(max(0.0, 1.0 - sin2_t)) # cosine of angle of refraction\n",
    "    return v * eta + n * (eta * cos_i - cos_t) # refracted direction\n",
    "\n",
    "\n",
    "def fresnel_schlick(normal: Vector, view_dir: Vector, f0: Color) -> Color:\n",
    "    \"\"\"\n",
    "    Schlick's approximation for Fresnel reflectance.\n",
    "    :param normal: surface normal (must be normalized)\n",
    "    :param view_dir: view direction (toward camera, must be normalized)\n",
    "    :param f0: base reflectance at normal incidence (Vec3)\n",
    "    :return: Fresnel reflectance (Vec3)\n",
    "    \"\"\"\n",
    "    normal = safe_normalize(normal)\n",
    "    view_dir = safe_normalize(view_dir)  # toward camera\n",
    "    cos_theta = clamp(normal.dot(view_dir))\n",
    "    return f0 + (Color(1.0, 1.0, 1.0) - f0) * ((1.0 - cos_theta) ** 5)\n",
    "\n",
    "\n",
    "def interpolate(a: float, b: float, t: float) -> float:\n",
    "    \"\"\"\n",
    "    Linear interpolation between a and b by factor t in [0, 1].\n",
    "    :param a: point a\n",
    "    :param b: point b\n",
    "    :param t: interpolation factor\n",
    "    :return: interpolated value\n",
    "    \"\"\"\n",
    "    return a * (1.0 - t) + b * t\n",
    "\n",
    "\n",
    "def interpolate_color(a: Color, b: Color, t: float) -> Color:\n",
    "    \"\"\"\n",
    "    Linear interpolation between two Vec3 by factor t in [0, 1].\n",
    "    :param a: point a (Vec3)\n",
    "    :param b: point b (Vec3)\n",
    "    :param t: interpolation factor\n",
    "    :return: interpolated Vec3\n",
    "    \"\"\"\n",
    "    return Color(\n",
    "        interpolate(a.r, b.r, t),\n",
    "        interpolate(a.g, b.g, t),\n",
    "        interpolate(a.b, b.b, t)\n",
    "    )\n",
    "\n",
    "\n",
    "def safe_normalize(v: Vector) -> Vector:\n",
    "    \"\"\"\n",
    "    Normalize but avoid division by zero for near-zero vectors.\n",
    "    :param v: input Vec3\n",
    "    :return: normalized Vec3 or original if near-zero\n",
    "    \"\"\"\n",
    "    n = v.norm()\n",
    "    return v if n == 0.0 else v / n\n",
    "\n",
    "\n",
    "def light_relative_position(hit: HitPoint, light: Light) -> tuple[Vector, float]:\n",
    "    \"\"\"\n",
    "    Compute direction and distance from hit point to light source.\n",
    "    :param hit: Hit record\n",
    "    :param light: Light source\n",
    "    :return: normalized direction to light, distance to light\n",
    "    \"\"\"\n",
    "    light_vec = light.position - hit.point\n",
    "    light_dir = safe_normalize(light_vec)\n",
    "    light_dist = light_vec.norm()\n",
    "    return light_dir, light_dist\n",
    "\n",
    "\n",
    "def shadow_trace(hit: HitPoint, light_dir: Vector, light_dist: float, world: World) -> bool:\n",
    "    \"\"\"\n",
    "    Check if point is in shadow by casting a ray toward the light source.\n",
    "    :param hit: Hit record\n",
    "    :param light_dir: direction to light source\n",
    "    :param light_dist: distance to light source\n",
    "    :param world: World containing all objects\n",
    "    :return: True if in shadow, False otherwise\n",
    "    \"\"\"\n",
    "    shadow_ray = Ray(hit.point + safe_normalize(hit.normal) * 1e-3, light_dir) # offset origin to avoid self-intersection\n",
    "    shadow_hit = world.hit(shadow_ray, t_min=0.001, t_max=light_dist) # check if ray hits anything before reaching light\n",
    "    return shadow_hit is not None # in shadow if hit something\n",
    "\n",
    "\n",
    "def ambient_light(material: Material) -> Color:\n",
    "    \"\"\"\n",
    "    Simple ambient light contribution.\n",
    "    :param material: Material at hit point\n",
    "    :return: ambient color (Vec3)\n",
    "    \"\"\"\n",
    "    return material.base_color * ambient_light.intensity\n",
    "\n",
    "def emission_light(material: Material) -> Color:\n",
    "    \"\"\"\n",
    "    Emission light contribution from material.\n",
    "    :param material: Material at hit point\n",
    "    :return: emission color (Vec3)\n",
    "    \"\"\"\n",
    "    return material.emission\n",
    "\n",
    "\n",
    "def lambert_diffuse(hit: HitPoint, light_dir: Vector, shadow: float, light_source: Light) -> Color:\n",
    "    \"\"\"\n",
    "    Lambertian diffuse shading.\n",
    "    :param hit: Hit record\n",
    "    :param light_dir: direction to light source\n",
    "    :param shadow: 1.0 if not in shadow, 0.0 if in shadow\n",
    "    :param light_source: Light source\n",
    "    :return: diffuse color (Vec3) at hit point\n",
    "    \"\"\"\n",
    "    surface_material = hit.material #gets the surface material at the hit point\n",
    "    diffuse_coef = max(0.0, hit.normal.dot(light_dir)) # Lambertian cosine term\n",
    "    d = (light_source.position - hit.point).norm()\n",
    "    light_intensity = light_source.intensity\n",
    "    diffuse = surface_material.base_color * (diffuse_coef * light_intensity * shadow * (1.0 - clamp(surface_material.metallic))) # reduce diffuse for metallic materials\n",
    "    return diffuse\n",
    "\n",
    "\n",
    "def phong_specular(hit_point: HitPoint, light_dir: Vector, view_dir: Vector, shadow: float) -> Color:\n",
    "    \"\"\"\n",
    "    Phong specular shading.\n",
    "    1. Calculate reflection direction Rl of light_dir about hit.normal\n",
    "    2. Compute specular angle as max(0, v_dir · Rl)\n",
    "    3. Raise specular angle to the power of shininess for highlight size\n",
    "    4. Scale by shadow factor (0 in shadow, 1 if fully lit)\n",
    "    5. Modulate by specular color and base color based on metallic property\n",
    "    6. Return final specular color contribution\n",
    "    :param hit_point: Hit record\n",
    "    :param light_dir: direction to light source\n",
    "    :param view_dir: view direction (toward camera)\n",
    "    :param shadow: 1.0 if not in shadow, 0.0 if in shadow\n",
    "    :return: specular color (Vec3) at hit point\n",
    "    \"\"\"\n",
    "    surface_material = hit_point.material #gets the surface material at the hit point\n",
    "\n",
    "    # just for robustness\n",
    "    normal = safe_normalize(hit_point.normal)\n",
    "    light_dir = safe_normalize(light_dir)\n",
    "    view_dir = safe_normalize(view_dir)\n",
    "\n",
    "    reflected_light = reflect(-light_dir, normal) # perfect reflection direction of light\n",
    "    spec_angle = max(0.0, view_dir.dot(safe_normalize(reflected_light))) # angle between view direction and reflected light\n",
    "    shininess = max(2.0, surface_material.shininess)\n",
    "    ks = shadow  # base spec intensity is reduced in shadow\n",
    "    spec_tint = interpolate_color(surface_material.spec_color, surface_material.base_color, clamp(surface_material.metallic)) # blend spec color with base color based on metallic\n",
    "    return spec_tint * (ks * (spec_angle ** shininess)) # final specular color\n",
    "\n",
    "\n",
    "def dielectric_f0(ior: float) -> float:\n",
    "    \"\"\"\n",
    "    Calculate base reflectance F0 for dielectric materials based on index of refraction.\n",
    "    :param ior: index of refraction\n",
    "    :return: base reflectance F0\n",
    "    \"\"\"\n",
    "    return ((ior - 1.0) / (ior + 1.0)) ** 2\n",
    "\n",
    "def phong_specular_with_fresnel(hit: HitPoint, light_dir: Vector, view_dir: Vector, shadow: float) -> Color:\n",
    "    \"\"\"\n",
    "    Phong specular shading modulated by Fresnel effect for dielectric materials.\n",
    "    :param hit: Hit record\n",
    "    :param light_dir: direction to light source\n",
    "    :param view_dir: view direction (toward camera)\n",
    "    :param shadow: 1.0 if not in shadow, 0.0 if in shadow\n",
    "    :return: specular color (Vec3) at hit point\n",
    "    \"\"\"\n",
    "    material = hit.material #gets the surface material at the hit point\n",
    "    phong_spec = phong_specular(hit, light_dir, view_dir, shadow) # basic Phong specular component\n",
    "\n",
    "    if material.ior is not None and material.ior > 1.0: # dielectric material with ior\n",
    "        f0_scalar = dielectric_f0(material.ior) # base reflectance for dielectrics\n",
    "        f0 = Color(f0_scalar, f0_scalar, f0_scalar) # convert to Vec3\n",
    "        fresnel_reflectance = fresnel_schlick(hit.normal, view_dir, f0) # Fresnel reflectance based on angle\n",
    "        return phong_spec * fresnel_reflectance # modulate Phong specular by Fresnel\n",
    "    else:\n",
    "        return phong_spec"
   ],
   "id": "2f316c4f1d4d410e",
   "outputs": [],
   "execution_count": 14
  },
  {
   "metadata": {},
   "cell_type": "markdown",
   "source": [
    "# Main shading function\n",
    "- combines diffuse, specular, and emission components to get final color at intersection point\n",
    "- also checks for shadows by casting a ray toward the light source"
   ],
   "id": "cf49886df52a43f0"
  },
  {
   "metadata": {
    "ExecuteTime": {
     "end_time": "2025-10-06T14:09:35.875196Z",
     "start_time": "2025-10-06T14:09:35.871809Z"
    }
   },
   "cell_type": "code",
   "source": [
    "def shade(hit: HitPoint, world: World, light_source: Light) -> Color:\n",
    "    \"\"\"\n",
    "    Main shading function combining diffuse, specular, and emission components.\n",
    "    :param hit: Hit record\n",
    "    :param world: World containing all objects\n",
    "    :param light_source: Light source\n",
    "    :return: final color (Vec3) at hit point\n",
    "    \"\"\"\n",
    "\n",
    "    view_dir = safe_normalize(-hit.ray_dir)\n",
    "    light_dir, light_dist = light_relative_position(hit, light_source)\n",
    "    shadow = 0.0 if shadow_trace(hit, light_dir, light_dist, world) else 1.0\n",
    "\n",
    "    r2 = max(1e-6, light_dist*light_dist)\n",
    "    light_intensity = light_source.intensity / (4.0 * pi * r2)\n",
    "\n",
    "    diffuse  = lambert_diffuse(hit, light_dir, shadow, light_source)\n",
    "    specular = phong_specular_with_fresnel(hit, light_dir, view_dir, shadow) * light_intensity\n",
    "    emitted  = emission_light(hit.material)\n",
    "    return clamp_vec3(diffuse + specular + emitted)"
   ],
   "id": "66cc801ff0eb4b81",
   "outputs": [],
   "execution_count": 15
  },
  {
   "metadata": {},
   "cell_type": "markdown",
   "source": [
    "# 11 Tracing rays and helper functions\n",
    "\n",
    "## Helper methods"
   ],
   "id": "5770a3cd97c134bf"
  },
  {
   "metadata": {
    "ExecuteTime": {
     "end_time": "2025-10-06T14:09:35.888277Z",
     "start_time": "2025-10-06T14:09:35.881572Z"
    }
   },
   "cell_type": "code",
   "source": [
    "def to_u8(v: float) -> int:\n",
    "    \"\"\"\n",
    "    Convert float color component in [0, 1] to uint8 [0, 255].\n",
    "    Apply gamma correction (gamma=2.2).\n",
    "    :param v: input float color component\n",
    "    :return: uint8 color component\n",
    "    \"\"\"\n",
    "    v = max(0.0, min(1.0, v))\n",
    "    v = v ** (1.0 / 2.2)\n",
    "    return int(255.99 * v)\n",
    "\n",
    "\n",
    "def to_u8_vec3(col: Color) -> Color:\n",
    "    \"\"\"\n",
    "    Convert Vec3 color in [0, 1] to tuple of uint8 [0, 255].\n",
    "    :param col: input Vec3 color\n",
    "    :return: tuple of uint8 color components\n",
    "    \"\"\"\n",
    "    return Color.custom_rgb(to_u8(col.r), to_u8(col.g), to_u8(col.b))\n",
    "\n",
    "\n",
    "def ray_color(ray: Ray, world: World, depth: int = 3) -> Color:\n",
    "    \"\"\"\n",
    "    Wrapper for trace function to get color for a ray.\n",
    "    :param depth: maximum recursion depth\n",
    "    :param ray: input ray\n",
    "    :param world: World containing all objects\n",
    "    :return: color (Vec3) for the ray\n",
    "    \"\"\"\n",
    "    return trace(ray, world, depth)\n",
    "\n",
    "\n",
    "def handle_reflection(ray: Ray,\n",
    "                     hit: HitPoint,\n",
    "                     normal: Vector,\n",
    "                     material: Material,\n",
    "                     throughput: float) -> tuple[Ray, float]:\n",
    "    \"\"\"\n",
    "    Handle reflection for reflective materials.\n",
    "    :param ray: incoming ray\n",
    "    :param hit: Hit record\n",
    "    :param normal: surface normal at hit point\n",
    "    :param material: Material at hit point\n",
    "    :param throughput: how much light is carried along the ray\n",
    "    :return: new ray and updated throughput\n",
    "    \"\"\"\n",
    "\n",
    "    # Reflect\n",
    "    next_dir = reflect(ray.direction, normal).normalize()\n",
    "\n",
    "    # Fresnel-Schlick approximation\n",
    "    f0_base = Color(0.04, 0.04, 0.04) # base reflectance for dielectrics\n",
    "    metallic = clamp(getattr(material, \"metallic\", 0.0))\n",
    "    f0 = interpolate_color(f0_base, material.base_color, metallic)\n",
    "    f = fresnel_schlick(normal, ray.direction, f0)\n",
    "\n",
    "    # Effective reflectivity energy\n",
    "    reflectivity = clamp(getattr(material, \"reflectivity\", 0.0))\n",
    "    energy = max(reflectivity, (f.x + f.y + f.z) / 3.0)\n",
    "    energy = clamp(energy)\n",
    "\n",
    "    # Update throughput\n",
    "    throughput = throughput * energy\n",
    "\n",
    "    # Bias to avoid self-intersections\n",
    "    bias = max(1e-4, 1e-3 * min(1.0, hit.dist))\n",
    "    origin = hit.point + normal * bias\n",
    "\n",
    "    return Ray(origin, next_dir), throughput\n",
    "\n",
    "\n",
    "def handle_refraction(ray: Ray,\n",
    "                     hit: HitPoint,\n",
    "                     normal: Vector,\n",
    "                     material: Material,\n",
    "                     throughput: float) -> tuple[Ray, float]:\n",
    "    \"\"\"\n",
    "    Handle refraction for transparent materials.\n",
    "    :param ray: incoming ray\n",
    "    :param hit: Hit record\n",
    "    :param normal: surface normal at hit point\n",
    "    :param material: Material at hit point\n",
    "    :param throughput: how much light is carried along the ray\n",
    "    :return: new ray and updated throughput\n",
    "    \"\"\"\n",
    "\n",
    "    # Get material properties\n",
    "    transparency = clamp(getattr(material, \"transparency\", 0.0))\n",
    "    ior = getattr(material, \"ior\", 1.5)\n",
    "\n",
    "    # Try refraction\n",
    "    refr_dir = refract(ray.direction, normal, ior_out=1.0, ior_in=ior)\n",
    "\n",
    "    # Update throughput by transparency\n",
    "    throughput = throughput * transparency\n",
    "\n",
    "    # Bias to avoid self-intersections\n",
    "    bias = max(1e-4, 1e-3 * min(1.0, hit.dist))\n",
    "\n",
    "    if refr_dir is None:\n",
    "        next_dir = reflect(ray.direction, normal).normalize()\n",
    "        origin = hit.point + normal * bias\n",
    "        return Ray(origin, next_dir), throughput\n",
    "    else:\n",
    "        origin = hit.point - normal * bias\n",
    "        return Ray(origin, refr_dir.normalize()), throughput\n"
   ],
   "id": "4a5f851458cab834",
   "outputs": [],
   "execution_count": 16
  },
  {
   "metadata": {},
   "cell_type": "markdown",
   "source": "## Tracer",
   "id": "3ee71358d8936b4a"
  },
  {
   "metadata": {
    "ExecuteTime": {
     "end_time": "2025-10-06T14:09:35.899632Z",
     "start_time": "2025-10-06T14:09:35.894727Z"
    }
   },
   "cell_type": "code",
   "source": [
    "def russian_roulette(throughput: float, depth: int, maximal_depth: int) -> bool:\n",
    "    \"\"\"\n",
    "    Russian roulette termination for path tracing.\n",
    "    :param throughput: current throughput (how much light is carried along the ray)\n",
    "    :param depth: current recursion depth\n",
    "    :param maximal_depth: maximum recursion depth\n",
    "    :return: True if path should be terminated, False otherwise\n",
    "    \"\"\"\n",
    "    if depth < 3:\n",
    "        return False\n",
    "\n",
    "    q = max(0.05, 1.0 - throughput) # probability of terminating the path\n",
    "    if random() < q:\n",
    "        return True # terminate path\n",
    "\n",
    "    throughput /= (1.0 - q)\n",
    "    return False\n",
    "\n",
    "def trace(ray: Ray, world: World, maximal_depth: int = 3) -> Color:\n",
    "    \"\"\"\n",
    "    Trace ray through the scene and compute colors. Handles reflections and refractions up to max_depth.\n",
    "    :param maximal_depth: maximum recursion depth\n",
    "    :param ray: input ray\n",
    "    :param world: World containing all objects\n",
    "    :return: color (Vec3) for the ray\n",
    "    \"\"\"\n",
    "    color = Color.custom_rgb(0,0,0) # accumulated color\n",
    "    throughput = 1.0 # how much light is carried along the ray\n",
    "\n",
    "    for i in range(max_depth):\n",
    "        closest_hit = world.hit(ray) # find the closest intersection\n",
    "\n",
    "        if closest_hit is None:\n",
    "            color += throughput * background(ray.direction)\n",
    "            break\n",
    "\n",
    "        # direct lighting\n",
    "        color += throughput * shade(closest_hit, world, light_source)\n",
    "\n",
    "        # get material properties\n",
    "        material = closest_hit.material\n",
    "        reflectivity = clamp(material.reflectivity)\n",
    "        transparency = clamp(material.transparency)\n",
    "\n",
    "        # stop if no more transport\n",
    "        if reflectivity <= 0.0 and transparency <= 0.0:\n",
    "            break\n",
    "\n",
    "        # check\n",
    "        normal = closest_hit.normal.normalize()\n",
    "\n",
    "        if ray.direction.dot(normal) > 0.0:\n",
    "            normal = -normal\n",
    "\n",
    "        # decide reflection vs refraction\n",
    "        if reflectivity >= transparency:\n",
    "            ray, throughput = handle_reflection(ray, closest_hit, normal, material, throughput)\n",
    "        else:\n",
    "            ray, throughput = handle_refraction(ray, closest_hit, normal, material, throughput)\n",
    "\n",
    "    # clamp\n",
    "    return Color(min(1.0, color.x), min(1.0, color.y), min(1.0, color.z))\n",
    "#todo refactor and better documentation"
   ],
   "id": "92b39befee9e9bf7",
   "outputs": [],
   "execution_count": 17
  },
  {
   "metadata": {},
   "cell_type": "markdown",
   "source": [
    "# 12 Classic ray-tracing render loop\n",
    "Now to the core of our raytracer - the render function.\n",
    "- for each pixel, we generate multiple rays with slight offsets for anti-aliasing\n",
    "- anti-aliasing like this can very drastically increase render time\n",
    "- trace each ray through the scene - if hits we shade it, if misses we use background color\n",
    "- accumulate colors and average them for final pixel color\n",
    "- returning list of RGB tuples and image dimensions for saving to file"
   ],
   "id": "3c0832bc11e622c2"
  },
  {
   "metadata": {
    "ExecuteTime": {
     "end_time": "2025-10-06T14:09:35.912048Z",
     "start_time": "2025-10-06T14:09:35.906837Z"
    }
   },
   "cell_type": "code",
   "source": [
    "def render(res: Resolution = Resolution.R144p,\n",
    "           fov: float = 70.0,\n",
    "           world: World = None,\n",
    "           cam_pos: Vertex = Vertex(0, 0, 0),\n",
    "           cam_dir: Vector = Vector(0, 0, -1),\n",
    "           max_depth: int = 3,\n",
    "           samples_per_pixel: int = 10) -> Tuple[list[Tuple[int, int, int]], int, int]:\n",
    "    \"\"\"\n",
    "    Render the scene from the camera's perspective.\n",
    "    :param res: image resolution\n",
    "    :param fov: camera field of view in degrees\n",
    "    :param world: World containing all objects\n",
    "    :param cam_pos: camera position\n",
    "    :param cam_dir: camera direction (must be normalized)\n",
    "    :param max_depth: maximum recursion depth for ray tracing\n",
    "    :param samples_per_pixel: number of samples per pixel for anti-aliasing\n",
    "    :return: list of RGB tuples and image dimensions (width, height)\n",
    "    \"\"\"\n",
    "\n",
    "    if world is None:\n",
    "        raise ValueError(\"World must be provided for rendering.\")\n",
    "\n",
    "    #camera setup\n",
    "    cam = Camera(fov=fov, resolution=res, origin=cam_pos, direction=cam_dir)\n",
    "\n",
    "    pixels = []\n",
    "\n",
    "    #tdm progress bar for rendering looping over image rows\n",
    "    for j in tqdm(range(res.height), desc=\"Rendering\", unit=\"row\"):\n",
    "        # map j to v in [-0.5, 0.5]\n",
    "        v_base = ((res.height - 1 - j) / (res.height - 1)) - 0.5\n",
    "\n",
    "        for i in range(res.width):\n",
    "            # map i to u in [-0.5, 0.5]\n",
    "            u_base = (i / (res.width - 1)) - 0.5\n",
    "            # anti-aliasing by averaging multiple samples per pixel\n",
    "            acc = Color.custom_rgb(0,0,0)\n",
    "            for _ in range(samples_per_pixel):\n",
    "                # make random offset in pixel and jitter within pixel\n",
    "                du = (random() - 0.5) / (res.width - 1)\n",
    "                dv = (random() - 0.5) / (res.height - 1)\n",
    "                ray = cam.make_ray(u_base + du, v_base + dv)\n",
    "                # trace ray and accumulate color\n",
    "                acc += ray_color(ray, world, max_depth)\n",
    "            # average color\n",
    "            col = acc * (1.0 / samples_per_pixel)\n",
    "            # convert to uint8 and store to pixel tuple\n",
    "            pixels.append((to_u8(col.x), to_u8(col.y), to_u8(col.z)))\n",
    "    return pixels, res.width, res.height"
   ],
   "id": "fdb668326fa85ed5",
   "outputs": [],
   "execution_count": 18
  },
  {
   "metadata": {},
   "cell_type": "markdown",
   "source": "",
   "id": "21062263ec12c810"
  },
  {
   "metadata": {},
   "cell_type": "markdown",
   "source": [
    "# 13. Create world and render\n",
    "\n",
    "Finally, we have everything we need to create a simple scene and render it.\n",
    "\n",
    "## How to create a scene\n",
    "- Create a list of objects (Sphere, Plane) with different materials\n",
    "- Create a World instance with the object list\n",
    "- use materials we defined at the start of this notebook\n",
    "\n",
    "### predefined worlds\n",
    "- world - simple scene with spheres and ground plane\n",
    "- corner_box - enclosed box with various spheres and planes. Introduced by Joseph Cornell as scene to evaluate rendering software.\n"
   ],
   "id": "7ea6b97b8c806865"
  },
  {
   "metadata": {
    "ExecuteTime": {
     "end_time": "2025-10-06T14:09:35.924786Z",
     "start_time": "2025-10-06T14:09:35.921326Z"
    }
   },
   "cell_type": "code",
   "source": [
    "def simple_spheres() -> Tuple[World, Vector, Vector]:\n",
    "    objects = [\n",
    "        Plane(plane_point=Vertex(0, -1, 0), normal=Vector(0, 1, 0), material=mate_gray),\n",
    "        Sphere(center=Vertex(0, 0, -5), radius=1.0, material=glass),\n",
    "        Sphere(center=Vertex(2, 0, -5), radius=1.0, material=mate_red),\n",
    "        Sphere(center=Vertex(-2, 0, -5), radius=1.0, material=metal_gold),\n",
    "        Sphere(center=Vertex(0, -0.5, -3), radius=0.5, material=metal_silver),\n",
    "    ]\n",
    "    world = World(objects)\n",
    "    cam_pos = Vertex(0, 1, 2)\n",
    "    cam_dir = Vector(0, -0.1, -1).normalize()\n",
    "    return world, cam_pos, cam_dir"
   ],
   "id": "807c119ad2c6f5c6",
   "outputs": [],
   "execution_count": 19
  },
  {
   "metadata": {},
   "cell_type": "markdown",
   "source": [
    "# 14. Choose your desired render settings\n",
    "- resolutions are as most common screen resolutions defined in resolution.py\n",
    "- you can also create custom resolutions with Resolution.custom(width, height)\n",
    "- fov is vertical field of view in degrees\n",
    "- typical values are between 30 and 90 degrees"
   ],
   "id": "6316f49bda632dde"
  },
  {
   "metadata": {
    "ExecuteTime": {
     "end_time": "2025-10-06T14:09:35.940237Z",
     "start_time": "2025-10-06T14:09:35.937539Z"
    }
   },
   "cell_type": "code",
   "source": [
    "#avible resolutions are: R144p, R240p, R360p, R480p, R720p, HD, FullHD, UHD, 4K\n",
    "res = Resolution.R480p\n",
    "#typical values are between 30 and 90 degrees\n",
    "fov = 45.0\n",
    "\n",
    "SKYBOX_PATH = None\n",
    "SKYBOX_HDR = None\n",
    "\n",
    "\n",
    "world_to_render, camera_pos, camera_dir = simple_spheres()\n",
    "\n",
    "# these settings can drastically affect render time but also quality\n",
    "# Numer of bounces for each ray\n",
    "max_depth = 10\n",
    "# Number of samples per pixel for antialiasing\n",
    "samples_per_pixel = 4\n"
   ],
   "id": "eb48df577a46b611",
   "outputs": [],
   "execution_count": 20
  },
  {
   "metadata": {},
   "cell_type": "markdown",
   "source": "# Prewiew of the scene from the camera position",
   "id": "3196179fcaf64eda"
  },
  {
   "metadata": {
    "ExecuteTime": {
     "end_time": "2025-10-06T14:09:37.701548Z",
     "start_time": "2025-10-06T14:09:35.956508Z"
    }
   },
   "cell_type": "code",
   "source": [
    "print(f\"Rendering at {res.width}x{res.height}, fov={fov}, max_depth={max_depth}, spp={samples_per_pixel}\")\n",
    "start_time = time()\n",
    "p_px, p_w, p_h = render(res=Resolution.R144p, fov=fov, world=world_to_render,\n",
    "                      cam_pos=camera_pos, cam_dir=camera_dir,\n",
    "                      max_depth=max_depth, samples_per_pixel=1)\n",
    "\n",
    "write_ppm(\"./images/preview.ppm\", p_px, p_w, p_h)\n",
    "convert_ppm_to_png(\"./images/preview.ppm\", \"./images/preview.png\")\n",
    "print(f\"Preview render took {time() - start_time:.2f} seconds\")\n",
    "display(Image(filename=\"./images/preview.png\"))"
   ],
   "id": "86173c62153f8f4c",
   "outputs": [
    {
     "name": "stdout",
     "output_type": "stream",
     "text": [
      "Rendering at 854x480, fov=45.0, max_depth=10, spp=4\n"
     ]
    },
    {
     "data": {
      "text/plain": [
       "Rendering:   0%|          | 0/144 [00:00<?, ?row/s]"
      ],
      "application/vnd.jupyter.widget-view+json": {
       "version_major": 2,
       "version_minor": 0,
       "model_id": "eba27d0e526140939da4ac38ef1741cf"
      }
     },
     "metadata": {},
     "output_type": "display_data"
    },
    {
     "name": "stdout",
     "output_type": "stream",
     "text": [
      "Preview render took 1.74 seconds\n"
     ]
    },
    {
     "data": {
      "image/png": "[encoded data removed]",
      "text/plain": [
       "<IPython.core.display.Image object>"
      ]
     },
     "metadata": {},
     "output_type": "display_data"
    }
   ],
   "execution_count": 21
  },
  {
   "metadata": {},
   "cell_type": "markdown",
   "source": [
    "# 15. Result\n",
    "finally we can render the image and save it to a file"
   ],
   "id": "3ff42e54cc265118"
  },
  {
   "metadata": {
    "jupyter": {
     "is_executing": true
    },
    "ExecuteTime": {
     "start_time": "2025-10-06T14:09:37.724848Z"
    }
   },
   "cell_type": "code",
   "source": [
    "px, w, h = render(res=res, fov=fov, world=world_to_render,\n",
    "                  cam_pos=camera_pos, cam_dir=camera_dir,\n",
    "                  max_depth=max_depth, samples_per_pixel=samples_per_pixel)\n",
    "\n",
    "#you can set to which folder and filename you want to save the image\n",
    "OUTPUT_FOLDER = \"./images\"\n",
    "OUTPUT_FILENAME = \"out\"\n",
    "OUTPUT_PATH = f\"{OUTPUT_FOLDER}/{OUTPUT_FILENAME}\"\n",
    "write_ppm(OUTPUT_PATH + \".ppm\", px, w, h)\n",
    "convert_ppm_to_png(OUTPUT_PATH + \".ppm\", OUTPUT_PATH + \".png\")\n",
    "\n",
    "display(Image(filename=OUTPUT_PATH + \".png\"))\n",
    "\n",
    "print(\"\\nImage in resolution\", w, \"x\", h, \"rendered and saved to \", OUTPUT_PATH ,\" and \", OUTPUT_PATH,\".png\")"
   ],
   "id": "e61671fd29eaa9b9",
   "outputs": [
    {
     "data": {
      "text/plain": [
       "Rendering:   0%|          | 0/480 [00:00<?, ?row/s]"
      ],
      "application/vnd.jupyter.widget-view+json": {
       "version_major": 2,
       "version_minor": 0,
       "model_id": "3713d55708c2468bbbe84518950ef827"
      }
     },
     "metadata": {},
     "output_type": "display_data"
    }
   ],
   "execution_count": null
  }
 ],
 "metadata": {
  "kernelspec": {
   "display_name": "Python 3",
   "language": "python",
   "name": "python3"
  },
  "language_info": {
   "codemirror_mode": {
    "name": "ipython",
    "version": 2
   },
   "file_extension": ".py",
   "mimetype": "text/x-python",
   "name": "python",
   "nbconvert_exporter": "python",
   "pygments_lexer": "ipython2",
   "version": "2.7.6"
  }
 },
 "nbformat": 4,
 "nbformat_minor": 5
}
